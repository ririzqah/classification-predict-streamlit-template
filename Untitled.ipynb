{
 "cells": [
  {
   "cell_type": "markdown",
   "id": "5c3f5e66",
   "metadata": {},
   "source": [
    "# Classification Predict Student Solution\n",
    "\n",
    "© Explore Data Science Academy\n",
    "\n",
    "---\n",
    "### Honour Code\n",
    "\n",
    "I {**RIZQAH, MENIERS**}, confirm - by submitting this document - that the solutions in this notebook are a result of my own work and that I abide by the [EDSA honour code](https://drive.google.com/file/d/1QDCjGZJ8-FmJE3bZdIQNwnJyQKPhHZBn/view?usp=sharing).\n",
    "\n",
    "Non-compliance with the honour code constitutes a material breach of contract.\n",
    "\n",
    "\n",
    "\n",
    "## Predict Overview: 2021/22 Climate Change Belief Analysis\n",
    "\n",
    "\n",
    "\n",
    "###### EDSA is challenging you during the Classification Sprint with the task of creating a Machine Learning model that is able to classify whether or not a person believes in climate change, based on their novel tweet data.\n",
    "\n",
    ">Many companies are built around lessening one’s environmental impact or carbon footprint. They offer products and services that are environmentally friendly and sustainable, in line with their values and ideals. They would like to determine how people perceive climate change and whether or not they believe it is a real threat. This would add to their market research efforts in gauging how their product/service may be received.\n",
    "Providing an accurate and robust solution to this task gives companies access to a broad base of consumer sentiment, spanning multiple demographic and geographic categories - thus increasing their insights and informing future marketing strategies.\n",
    " "
   ]
  },
  {
   "cell_type": "markdown",
   "id": "566a53cd",
   "metadata": {},
   "source": [
    "## 1. Importing Packages"
   ]
  },
  {
   "cell_type": "code",
   "execution_count": 144,
   "id": "423ed3b1",
   "metadata": {},
   "outputs": [
    {
     "name": "stdout",
     "output_type": "stream",
     "text": [
      "2.7.0\n"
     ]
    }
   ],
   "source": [
    "import math\n",
    "\n",
    "import pandas as pd\n",
    "import numpy as np\n",
    "import seaborn as sns\n",
    "import matplotlib.pyplot as plt\n",
    "%matplotlib inline\n",
    "from matplotlib.colors import ListedColormap\n",
    "import warnings\n",
    "warnings.filterwarnings(\"ignore\")\n",
    "\n",
    "import re\n",
    "import nltk\n",
    "from nltk.stem import WordNetLemmatizer\n",
    "from nltk.corpus import stopwords\n",
    "wordLemm = WordNetLemmatizer()\n",
    "\n",
    "from tkinter import IntVar\n",
    "\n",
    "from tqdm.notebook import tqdm\n",
    "import tensorflow as tf\n",
    "print(tf.__version__)\n",
    "\n",
    "import os\n",
    "for dirname, _, filenames in os.walk('/kaggle/input'):\n",
    "    for filename in filenames:\n",
    "        print(os.path.join(dirname, filename))"
   ]
  },
  {
   "cell_type": "markdown",
   "id": "3d3ad42e",
   "metadata": {},
   "source": [
    "### Import Data"
   ]
  },
  {
   "cell_type": "code",
   "execution_count": 145,
   "id": "4a6785c9",
   "metadata": {},
   "outputs": [
    {
     "data": {
      "text/html": [
       "<div>\n",
       "<style scoped>\n",
       "    .dataframe tbody tr th:only-of-type {\n",
       "        vertical-align: middle;\n",
       "    }\n",
       "\n",
       "    .dataframe tbody tr th {\n",
       "        vertical-align: top;\n",
       "    }\n",
       "\n",
       "    .dataframe thead th {\n",
       "        text-align: right;\n",
       "    }\n",
       "</style>\n",
       "<table border=\"1\" class=\"dataframe\">\n",
       "  <thead>\n",
       "    <tr style=\"text-align: right;\">\n",
       "      <th></th>\n",
       "      <th>sentiment</th>\n",
       "      <th>message</th>\n",
       "      <th>tweetid</th>\n",
       "    </tr>\n",
       "  </thead>\n",
       "  <tbody>\n",
       "    <tr>\n",
       "      <th>0</th>\n",
       "      <td>1</td>\n",
       "      <td>PolySciMajor EPA chief doesn't think carbon di...</td>\n",
       "      <td>625221</td>\n",
       "    </tr>\n",
       "    <tr>\n",
       "      <th>1</th>\n",
       "      <td>1</td>\n",
       "      <td>It's not like we lack evidence of anthropogeni...</td>\n",
       "      <td>126103</td>\n",
       "    </tr>\n",
       "    <tr>\n",
       "      <th>2</th>\n",
       "      <td>2</td>\n",
       "      <td>RT @RawStory: Researchers say we have three ye...</td>\n",
       "      <td>698562</td>\n",
       "    </tr>\n",
       "    <tr>\n",
       "      <th>3</th>\n",
       "      <td>1</td>\n",
       "      <td>#TodayinMaker# WIRED : 2016 was a pivotal year...</td>\n",
       "      <td>573736</td>\n",
       "    </tr>\n",
       "    <tr>\n",
       "      <th>4</th>\n",
       "      <td>1</td>\n",
       "      <td>RT @SoyNovioDeTodas: It's 2016, and a racist, ...</td>\n",
       "      <td>466954</td>\n",
       "    </tr>\n",
       "  </tbody>\n",
       "</table>\n",
       "</div>"
      ],
      "text/plain": [
       "   sentiment                                            message  tweetid\n",
       "0          1  PolySciMajor EPA chief doesn't think carbon di...   625221\n",
       "1          1  It's not like we lack evidence of anthropogeni...   126103\n",
       "2          2  RT @RawStory: Researchers say we have three ye...   698562\n",
       "3          1  #TodayinMaker# WIRED : 2016 was a pivotal year...   573736\n",
       "4          1  RT @SoyNovioDeTodas: It's 2016, and a racist, ...   466954"
      ]
     },
     "execution_count": 145,
     "metadata": {},
     "output_type": "execute_result"
    }
   ],
   "source": [
    "# Import Train\n",
    "df_train = pd.read_csv('train.csv')\n",
    "df_train.head()"
   ]
  },
  {
   "cell_type": "code",
   "execution_count": 146,
   "id": "50f56a6f",
   "metadata": {},
   "outputs": [],
   "source": [
    "# Import Test\n",
    "df_test = pd.read_csv('test_with_no_labels.csv') "
   ]
  },
  {
   "cell_type": "markdown",
   "id": "0de83cd8",
   "metadata": {},
   "source": [
    "#### Preprosessing Data"
   ]
  },
  {
   "cell_type": "code",
   "execution_count": 147,
   "id": "c2d14c8c",
   "metadata": {},
   "outputs": [
    {
     "name": "stdout",
     "output_type": "stream",
     "text": [
      "15819\n",
      "14229\n"
     ]
    }
   ],
   "source": [
    "print(len(df_train))\n",
    "train_ndf = df_train.drop_duplicates('message', keep='last')\n",
    "print(len(train_ndf))"
   ]
  },
  {
   "cell_type": "code",
   "execution_count": 148,
   "id": "2e0c1cc4",
   "metadata": {},
   "outputs": [
    {
     "name": "stdout",
     "output_type": "stream",
     "text": [
      "10546\n",
      "9575\n"
     ]
    }
   ],
   "source": [
    "print(len(df_test))\n",
    "test_ndf = df_test.drop_duplicates('message', keep='last')\n",
    "print(len(test_ndf))"
   ]
  },
  {
   "cell_type": "code",
   "execution_count": 149,
   "id": "16c9776f",
   "metadata": {},
   "outputs": [
    {
     "data": {
      "text/plain": [
       "<AxesSubplot:xlabel='sentiment', ylabel='count'>"
      ]
     },
     "execution_count": 149,
     "metadata": {},
     "output_type": "execute_result"
    },
    {
     "data": {
      "image/png": "[encoded data removed]",
      "text/plain": [
       "<Figure size 432x288 with 1 Axes>"
      ]
     },
     "metadata": {
      "needs_background": "light"
     },
     "output_type": "display_data"
    }
   ],
   "source": [
    "sns.countplot(train_ndf['sentiment'])"
   ]
  },
  {
   "cell_type": "code",
   "execution_count": 150,
   "id": "72d2ed46",
   "metadata": {},
   "outputs": [
    {
     "data": {
      "text/plain": [
       " 1    7224\n",
       " 2    3541\n",
       " 0    2243\n",
       "-1    1221\n",
       "Name: sentiment, dtype: int64"
      ]
     },
     "execution_count": 150,
     "metadata": {},
     "output_type": "execute_result"
    }
   ],
   "source": [
    "#check value difference\n",
    "train_ndf['sentiment'].value_counts()"
   ]
  },
  {
   "cell_type": "code",
   "execution_count": 151,
   "id": "9c13bb09",
   "metadata": {},
   "outputs": [],
   "source": [
    "EMOJIS = {':)': 'smile', ':-)': 'smile', ';d': 'wink', ':-E': 'vampire', ':(': 'sad', \n",
    "          ':-(': 'sad', ':-<': 'sad', ':P': 'raspberry', ':O': 'surprised',\n",
    "          ':-@': 'shocked', ':@': 'shocked',':-$': 'confused', ':\\\\': 'annoyed', \n",
    "          ':#': 'mute', ':X': 'mute', ':^)': 'smile', ':-&': 'confused', '$_$': 'greedy',\n",
    "          '@@': 'eyeroll', ':-!': 'confused', ':-D': 'smile', ':-0': 'yell', 'O.o': 'confused',\n",
    "          '<(-_-)>': 'robot', 'd[-_-]b': 'dj', \":'-)\": 'sadsmile', ';)': 'wink', \n",
    "          ';-)': 'wink', 'O:-)': 'angel','O*-)': 'angel','(:-D': 'gossip', '=^.^=': 'cat'}\n",
    "URLPATTERN        = r\"((http://)[^ ]*|(https://)[^ ]*|( www\\.)[^ ]*)\"\n",
    "USERPATTERN       = '@[^\\s]+'\n",
    "SEQPATTERN   = r\"(.)\\1\\1+\"\n",
    "SEQREPLACE = r\"\\1\\1\""
   ]
  },
  {
   "cell_type": "code",
   "execution_count": 152,
   "id": "9f8b67a1",
   "metadata": {},
   "outputs": [],
   "source": [
    "def prepro_message(mesg):\n",
    "    mesg = re.sub(r\"http\\S+\", \"\", mesg)\n",
    "    ### Replacing URL\n",
    "    mesg = re.sub(URLPATTERN,' URL',mesg)\n",
    "    ### Removing non-alphabets\n",
    "    mesg = re.sub('[^a-zA-z]',\" \",mesg)\n",
    "    ### Replacing EMOJI\n",
    "    for emoji in EMOJIS.keys():\n",
    "        mesg = mesg.replace(emoji, \"EMOJI\" + EMOJIS[emoji])  \n",
    "    return mesg"
   ]
  },
  {
   "cell_type": "code",
   "execution_count": 153,
   "id": "dcdd6d1c",
   "metadata": {
    "scrolled": true
   },
   "outputs": [
    {
     "data": {
      "text/plain": [
       "\"PolySciMajor EPA chief doesn't think carbon dioxide is main cause of global warming and.. wait, what!? https://t.co/yeLvcEFXkC via @mashable\""
      ]
     },
     "execution_count": 153,
     "metadata": {},
     "output_type": "execute_result"
    }
   ],
   "source": [
    "train_ndf['message'] = train_ndf['message'].apply(prepro_message)\n",
    "\n",
    "df_train['message'].iloc[0]\n"
   ]
  },
  {
   "cell_type": "code",
   "execution_count": 154,
   "id": "7630d519",
   "metadata": {},
   "outputs": [
    {
     "data": {
      "text/plain": [
       "'PolySciMajor EPA chief doesn t think carbon dioxide is main cause of global warming and   wait  what    via  mashable'"
      ]
     },
     "execution_count": 154,
     "metadata": {},
     "output_type": "execute_result"
    }
   ],
   "source": [
    "train_ndf['message'].iloc[0]"
   ]
  },
  {
   "cell_type": "code",
   "execution_count": 155,
   "id": "f3a4229e",
   "metadata": {},
   "outputs": [
    {
     "data": {
      "text/plain": [
       "'Europe will now be looking to China to make sure that it is not alone in fighting climate change… https://t.co/O7T8rCgwDq'"
      ]
     },
     "execution_count": 155,
     "metadata": {},
     "output_type": "execute_result"
    }
   ],
   "source": [
    "test_ndf ['message'] = test_ndf['message'].apply(prepro_message)\n",
    "df_test['message'].iloc[0]"
   ]
  },
  {
   "cell_type": "code",
   "execution_count": 156,
   "id": "1c840ce3",
   "metadata": {},
   "outputs": [
    {
     "data": {
      "text/plain": [
       "'Europe will now be looking to China to make sure that it is not alone in fighting climate change  '"
      ]
     },
     "execution_count": 156,
     "metadata": {},
     "output_type": "execute_result"
    }
   ],
   "source": [
    "test_ndf['message'].iloc[0]"
   ]
  },
  {
   "cell_type": "code",
   "execution_count": 157,
   "id": "209d4ce8",
   "metadata": {},
   "outputs": [
    {
     "name": "stdout",
     "output_type": "stream",
     "text": [
      "Requirement already satisfied: tensorflow_text==2.7.0 in c:\\users\\menie\\anaconda3\\lib\\site-packages (2.7.0)\n",
      "Requirement already satisfied: tensorflow<2.8,>=2.7.0 in c:\\users\\menie\\anaconda3\\lib\\site-packages (from tensorflow_text==2.7.0) (2.7.0)\n",
      "Requirement already satisfied: tensorflow-hub>=0.8.0 in c:\\users\\menie\\anaconda3\\lib\\site-packages (from tensorflow_text==2.7.0) (0.12.0)\n",
      "Requirement already satisfied: six>=1.12.0 in c:\\users\\menie\\anaconda3\\lib\\site-packages (from tensorflow<2.8,>=2.7.0->tensorflow_text==2.7.0) (1.15.0)\n",
      "Requirement already satisfied: tensorflow-io-gcs-filesystem>=0.21.0 in c:\\users\\menie\\anaconda3\\lib\\site-packages (from tensorflow<2.8,>=2.7.0->tensorflow_text==2.7.0) (0.22.0)\n",
      "Requirement already satisfied: google-pasta>=0.1.1 in c:\\users\\menie\\anaconda3\\lib\\site-packages (from tensorflow<2.8,>=2.7.0->tensorflow_text==2.7.0) (0.2.0)\n",
      "Requirement already satisfied: wheel<1.0,>=0.32.0 in c:\\users\\menie\\anaconda3\\lib\\site-packages (from tensorflow<2.8,>=2.7.0->tensorflow_text==2.7.0) (0.36.2)\n",
      "Requirement already satisfied: libclang>=9.0.1 in c:\\users\\menie\\anaconda3\\lib\\site-packages (from tensorflow<2.8,>=2.7.0->tensorflow_text==2.7.0) (12.0.0)\n",
      "Requirement already satisfied: opt-einsum>=2.3.2 in c:\\users\\menie\\anaconda3\\lib\\site-packages (from tensorflow<2.8,>=2.7.0->tensorflow_text==2.7.0) (3.3.0)\n",
      "Requirement already satisfied: absl-py>=0.4.0 in c:\\users\\menie\\anaconda3\\lib\\site-packages (from tensorflow<2.8,>=2.7.0->tensorflow_text==2.7.0) (0.12.0)\n",
      "Requirement already satisfied: protobuf>=3.9.2 in c:\\users\\menie\\anaconda3\\lib\\site-packages (from tensorflow<2.8,>=2.7.0->tensorflow_text==2.7.0) (3.19.1)\n",
      "Requirement already satisfied: keras<2.8,>=2.7.0rc0 in c:\\users\\menie\\anaconda3\\lib\\site-packages (from tensorflow<2.8,>=2.7.0->tensorflow_text==2.7.0) (2.7.0)\n",
      "Requirement already satisfied: gast<0.5.0,>=0.2.1 in c:\\users\\menie\\anaconda3\\lib\\site-packages (from tensorflow<2.8,>=2.7.0->tensorflow_text==2.7.0) (0.4.0)\n",
      "Requirement already satisfied: astunparse>=1.6.0 in c:\\users\\menie\\anaconda3\\lib\\site-packages (from tensorflow<2.8,>=2.7.0->tensorflow_text==2.7.0) (1.6.3)\n",
      "Requirement already satisfied: tensorboard~=2.6 in c:\\users\\menie\\anaconda3\\lib\\site-packages (from tensorflow<2.8,>=2.7.0->tensorflow_text==2.7.0) (2.7.0)\n",
      "Requirement already satisfied: h5py>=2.9.0 in c:\\users\\menie\\anaconda3\\lib\\site-packages (from tensorflow<2.8,>=2.7.0->tensorflow_text==2.7.0) (2.10.0)\n",
      "Requirement already satisfied: keras-preprocessing>=1.1.1 in c:\\users\\menie\\anaconda3\\lib\\site-packages (from tensorflow<2.8,>=2.7.0->tensorflow_text==2.7.0) (1.1.2)\n",
      "Requirement already satisfied: termcolor>=1.1.0 in c:\\users\\menie\\anaconda3\\lib\\site-packages (from tensorflow<2.8,>=2.7.0->tensorflow_text==2.7.0) (1.1.0)\n",
      "Requirement already satisfied: flatbuffers<3.0,>=1.12 in c:\\users\\menie\\anaconda3\\lib\\site-packages (from tensorflow<2.8,>=2.7.0->tensorflow_text==2.7.0) (2.0)\n",
      "Requirement already satisfied: numpy>=1.14.5 in c:\\users\\menie\\anaconda3\\lib\\site-packages (from tensorflow<2.8,>=2.7.0->tensorflow_text==2.7.0) (1.21.4)\n",
      "Requirement already satisfied: typing-extensions>=3.6.6 in c:\\users\\menie\\anaconda3\\lib\\site-packages (from tensorflow<2.8,>=2.7.0->tensorflow_text==2.7.0) (3.7.4.3)\n",
      "Requirement already satisfied: wrapt>=1.11.0 in c:\\users\\menie\\anaconda3\\lib\\site-packages (from tensorflow<2.8,>=2.7.0->tensorflow_text==2.7.0) (1.12.1)\n",
      "Requirement already satisfied: grpcio<2.0,>=1.24.3 in c:\\users\\menie\\anaconda3\\lib\\site-packages (from tensorflow<2.8,>=2.7.0->tensorflow_text==2.7.0) (1.42.0)\n",
      "Requirement already satisfied: tensorflow-estimator<2.8,~=2.7.0rc0 in c:\\users\\menie\\anaconda3\\lib\\site-packages (from tensorflow<2.8,>=2.7.0->tensorflow_text==2.7.0) (2.7.0)\n",
      "Requirement already satisfied: requests<3,>=2.21.0 in c:\\users\\menie\\anaconda3\\lib\\site-packages (from tensorboard~=2.6->tensorflow<2.8,>=2.7.0->tensorflow_text==2.7.0) (2.25.1)\n",
      "Requirement already satisfied: tensorboard-plugin-wit>=1.6.0 in c:\\users\\menie\\anaconda3\\lib\\site-packages (from tensorboard~=2.6->tensorflow<2.8,>=2.7.0->tensorflow_text==2.7.0) (1.8.0)\n",
      "Requirement already satisfied: tensorboard-data-server<0.7.0,>=0.6.0 in c:\\users\\menie\\anaconda3\\lib\\site-packages (from tensorboard~=2.6->tensorflow<2.8,>=2.7.0->tensorflow_text==2.7.0) (0.6.1)\n",
      "Requirement already satisfied: google-auth<3,>=1.6.3 in c:\\users\\menie\\anaconda3\\lib\\site-packages (from tensorboard~=2.6->tensorflow<2.8,>=2.7.0->tensorflow_text==2.7.0) (2.3.3)\n",
      "Requirement already satisfied: setuptools>=41.0.0 in c:\\users\\menie\\anaconda3\\lib\\site-packages (from tensorboard~=2.6->tensorflow<2.8,>=2.7.0->tensorflow_text==2.7.0) (52.0.0.post20210125)\n",
      "Requirement already satisfied: werkzeug>=0.11.15 in c:\\users\\menie\\anaconda3\\lib\\site-packages (from tensorboard~=2.6->tensorflow<2.8,>=2.7.0->tensorflow_text==2.7.0) (2.0.2)\n",
      "Requirement already satisfied: google-auth-oauthlib<0.5,>=0.4.1 in c:\\users\\menie\\anaconda3\\lib\\site-packages (from tensorboard~=2.6->tensorflow<2.8,>=2.7.0->tensorflow_text==2.7.0) (0.4.6)\n",
      "Requirement already satisfied: markdown>=2.6.8 in c:\\users\\menie\\anaconda3\\lib\\site-packages (from tensorboard~=2.6->tensorflow<2.8,>=2.7.0->tensorflow_text==2.7.0) (3.3.6)\n",
      "Requirement already satisfied: cachetools<5.0,>=2.0.0 in c:\\users\\menie\\anaconda3\\lib\\site-packages (from google-auth<3,>=1.6.3->tensorboard~=2.6->tensorflow<2.8,>=2.7.0->tensorflow_text==2.7.0) (4.2.4)\n",
      "Requirement already satisfied: rsa<5,>=3.1.4 in c:\\users\\menie\\anaconda3\\lib\\site-packages (from google-auth<3,>=1.6.3->tensorboard~=2.6->tensorflow<2.8,>=2.7.0->tensorflow_text==2.7.0) (4.8)\n",
      "Requirement already satisfied: pyasn1-modules>=0.2.1 in c:\\users\\menie\\anaconda3\\lib\\site-packages (from google-auth<3,>=1.6.3->tensorboard~=2.6->tensorflow<2.8,>=2.7.0->tensorflow_text==2.7.0) (0.2.8)\n",
      "Requirement already satisfied: requests-oauthlib>=0.7.0 in c:\\users\\menie\\anaconda3\\lib\\site-packages (from google-auth-oauthlib<0.5,>=0.4.1->tensorboard~=2.6->tensorflow<2.8,>=2.7.0->tensorflow_text==2.7.0) (1.3.0)\n",
      "Requirement already satisfied: importlib-metadata>=4.4 in c:\\users\\menie\\anaconda3\\lib\\site-packages (from markdown>=2.6.8->tensorboard~=2.6->tensorflow<2.8,>=2.7.0->tensorflow_text==2.7.0) (4.8.2)\n",
      "Requirement already satisfied: zipp>=0.5 in c:\\users\\menie\\anaconda3\\lib\\site-packages (from importlib-metadata>=4.4->markdown>=2.6.8->tensorboard~=2.6->tensorflow<2.8,>=2.7.0->tensorflow_text==2.7.0) (3.4.1)\n",
      "Requirement already satisfied: pyasn1<0.5.0,>=0.4.6 in c:\\users\\menie\\anaconda3\\lib\\site-packages (from pyasn1-modules>=0.2.1->google-auth<3,>=1.6.3->tensorboard~=2.6->tensorflow<2.8,>=2.7.0->tensorflow_text==2.7.0) (0.4.8)\n",
      "Requirement already satisfied: idna<3,>=2.5 in c:\\users\\menie\\anaconda3\\lib\\site-packages (from requests<3,>=2.21.0->tensorboard~=2.6->tensorflow<2.8,>=2.7.0->tensorflow_text==2.7.0) (2.10)\n",
      "Requirement already satisfied: chardet<5,>=3.0.2 in c:\\users\\menie\\anaconda3\\lib\\site-packages (from requests<3,>=2.21.0->tensorboard~=2.6->tensorflow<2.8,>=2.7.0->tensorflow_text==2.7.0) (4.0.0)\n",
      "Requirement already satisfied: urllib3<1.27,>=1.21.1 in c:\\users\\menie\\anaconda3\\lib\\site-packages (from requests<3,>=2.21.0->tensorboard~=2.6->tensorflow<2.8,>=2.7.0->tensorflow_text==2.7.0) (1.26.4)\n",
      "Requirement already satisfied: certifi>=2017.4.17 in c:\\users\\menie\\anaconda3\\lib\\site-packages (from requests<3,>=2.21.0->tensorboard~=2.6->tensorflow<2.8,>=2.7.0->tensorflow_text==2.7.0) (2020.12.5)\n",
      "Requirement already satisfied: oauthlib>=3.0.0 in c:\\users\\menie\\anaconda3\\lib\\site-packages (from requests-oauthlib>=0.7.0->google-auth-oauthlib<0.5,>=0.4.1->tensorboard~=2.6->tensorflow<2.8,>=2.7.0->tensorflow_text==2.7.0) (3.1.1)\n"
     ]
    }
   ],
   "source": [
    "!pip install -U tensorflow_text==2.7.0"
   ]
  },
  {
   "cell_type": "code",
   "execution_count": 158,
   "id": "f9e2044a",
   "metadata": {},
   "outputs": [
    {
     "name": "stdout",
     "output_type": "stream",
     "text": [
      "Requirement already satisfied: tf-models-official==2.3 in c:\\users\\menie\\anaconda3\\lib\\site-packages (2.3.0)\n",
      "Requirement already satisfied: numpy>=1.15.4 in c:\\users\\menie\\anaconda3\\lib\\site-packages (from tf-models-official==2.3) (1.21.4)\n",
      "Requirement already satisfied: tensorflow>=2.3.0 in c:\\users\\menie\\anaconda3\\lib\\site-packages (from tf-models-official==2.3) (2.7.0)\n",
      "Requirement already satisfied: scipy>=0.19.1 in c:\\users\\menie\\anaconda3\\lib\\site-packages (from tf-models-official==2.3) (1.6.2)\n",
      "Requirement already satisfied: tensorflow-datasets in c:\\users\\menie\\anaconda3\\lib\\site-packages (from tf-models-official==2.3) (4.4.0)\n",
      "Requirement already satisfied: six in c:\\users\\menie\\anaconda3\\lib\\site-packages (from tf-models-official==2.3) (1.15.0)\n",
      "Requirement already satisfied: tensorflow-hub>=0.6.0 in c:\\users\\menie\\anaconda3\\lib\\site-packages (from tf-models-official==2.3) (0.12.0)\n",
      "Requirement already satisfied: pyyaml in c:\\users\\menie\\anaconda3\\lib\\site-packages (from tf-models-official==2.3) (5.4.1)\n",
      "Requirement already satisfied: tf-slim>=1.1.0 in c:\\users\\menie\\anaconda3\\lib\\site-packages (from tf-models-official==2.3) (1.1.0)\n",
      "Requirement already satisfied: matplotlib in c:\\users\\menie\\anaconda3\\lib\\site-packages (from tf-models-official==2.3) (3.3.4)\n",
      "Requirement already satisfied: pandas>=0.22.0 in c:\\users\\menie\\anaconda3\\lib\\site-packages (from tf-models-official==2.3) (1.3.4)\n",
      "Requirement already satisfied: Pillow in c:\\users\\menie\\anaconda3\\lib\\site-packages (from tf-models-official==2.3) (8.2.0)\n",
      "Requirement already satisfied: gin-config in c:\\users\\menie\\anaconda3\\lib\\site-packages (from tf-models-official==2.3) (0.5.0)\n",
      "Requirement already satisfied: Cython in c:\\users\\menie\\anaconda3\\lib\\site-packages (from tf-models-official==2.3) (0.29.23)\n",
      "Requirement already satisfied: psutil>=5.4.3 in c:\\users\\menie\\anaconda3\\lib\\site-packages (from tf-models-official==2.3) (5.8.0)\n",
      "Requirement already satisfied: sentencepiece in c:\\users\\menie\\anaconda3\\lib\\site-packages (from tf-models-official==2.3) (0.1.96)\n",
      "Requirement already satisfied: tensorflow-model-optimization>=0.2.1 in c:\\users\\menie\\anaconda3\\lib\\site-packages (from tf-models-official==2.3) (0.7.0)\n",
      "Requirement already satisfied: py-cpuinfo>=3.3.0 in c:\\users\\menie\\anaconda3\\lib\\site-packages (from tf-models-official==2.3) (8.0.0)\n",
      "Requirement already satisfied: kaggle>=1.3.9 in c:\\users\\menie\\anaconda3\\lib\\site-packages (from tf-models-official==2.3) (1.5.12)\n",
      "Requirement already satisfied: tensorflow-addons in c:\\users\\menie\\anaconda3\\lib\\site-packages (from tf-models-official==2.3) (0.15.0)\n",
      "Requirement already satisfied: opencv-python-headless in c:\\users\\menie\\anaconda3\\lib\\site-packages (from tf-models-official==2.3) (4.5.4.60)\n",
      "Requirement already satisfied: dataclasses in c:\\users\\menie\\anaconda3\\lib\\site-packages (from tf-models-official==2.3) (0.6)\n",
      "Requirement already satisfied: google-cloud-bigquery>=0.31.0 in c:\\users\\menie\\anaconda3\\lib\\site-packages (from tf-models-official==2.3) (2.30.1)\n",
      "Requirement already satisfied: google-api-python-client>=1.6.7 in c:\\users\\menie\\anaconda3\\lib\\site-packages (from tf-models-official==2.3) (2.31.0)\n",
      "Requirement already satisfied: google-auth<3.0.0dev,>=1.16.0 in c:\\users\\menie\\anaconda3\\lib\\site-packages (from google-api-python-client>=1.6.7->tf-models-official==2.3) (2.3.3)\n",
      "Requirement already satisfied: httplib2<1dev,>=0.15.0 in c:\\users\\menie\\anaconda3\\lib\\site-packages (from google-api-python-client>=1.6.7->tf-models-official==2.3) (0.20.2)\n",
      "Requirement already satisfied: google-api-core<3.0.0dev,>=1.21.0 in c:\\users\\menie\\anaconda3\\lib\\site-packages (from google-api-python-client>=1.6.7->tf-models-official==2.3) (2.2.2)\n",
      "Requirement already satisfied: uritemplate<5,>=3.0.0 in c:\\users\\menie\\anaconda3\\lib\\site-packages (from google-api-python-client>=1.6.7->tf-models-official==2.3) (4.1.1)\n",
      "Requirement already satisfied: google-auth-httplib2>=0.1.0 in c:\\users\\menie\\anaconda3\\lib\\site-packages (from google-api-python-client>=1.6.7->tf-models-official==2.3) (0.1.0)\n",
      "Requirement already satisfied: googleapis-common-protos<2.0dev,>=1.52.0 in c:\\users\\menie\\anaconda3\\lib\\site-packages (from google-api-core<3.0.0dev,>=1.21.0->google-api-python-client>=1.6.7->tf-models-official==2.3) (1.53.0)\n",
      "Requirement already satisfied: requests<3.0.0dev,>=2.18.0 in c:\\users\\menie\\anaconda3\\lib\\site-packages (from google-api-core<3.0.0dev,>=1.21.0->google-api-python-client>=1.6.7->tf-models-official==2.3) (2.25.1)\n",
      "Requirement already satisfied: protobuf>=3.12.0 in c:\\users\\menie\\anaconda3\\lib\\site-packages (from google-api-core<3.0.0dev,>=1.21.0->google-api-python-client>=1.6.7->tf-models-official==2.3) (3.19.1)\n",
      "Requirement already satisfied: setuptools>=40.3.0 in c:\\users\\menie\\anaconda3\\lib\\site-packages (from google-api-core<3.0.0dev,>=1.21.0->google-api-python-client>=1.6.7->tf-models-official==2.3) (52.0.0.post20210125)\n",
      "Requirement already satisfied: pyasn1-modules>=0.2.1 in c:\\users\\menie\\anaconda3\\lib\\site-packages (from google-auth<3.0.0dev,>=1.16.0->google-api-python-client>=1.6.7->tf-models-official==2.3) (0.2.8)\n",
      "Requirement already satisfied: rsa<5,>=3.1.4 in c:\\users\\menie\\anaconda3\\lib\\site-packages (from google-auth<3.0.0dev,>=1.16.0->google-api-python-client>=1.6.7->tf-models-official==2.3) (4.8)\n",
      "Requirement already satisfied: cachetools<5.0,>=2.0.0 in c:\\users\\menie\\anaconda3\\lib\\site-packages (from google-auth<3.0.0dev,>=1.16.0->google-api-python-client>=1.6.7->tf-models-official==2.3) (4.2.4)\n",
      "Requirement already satisfied: proto-plus>=1.10.0 in c:\\users\\menie\\anaconda3\\lib\\site-packages (from google-cloud-bigquery>=0.31.0->tf-models-official==2.3) (1.19.8)\n",
      "Requirement already satisfied: google-resumable-media<3.0dev,>=0.6.0 in c:\\users\\menie\\anaconda3\\lib\\site-packages (from google-cloud-bigquery>=0.31.0->tf-models-official==2.3) (2.1.0)\n",
      "Requirement already satisfied: packaging>=14.3 in c:\\users\\menie\\anaconda3\\lib\\site-packages (from google-cloud-bigquery>=0.31.0->tf-models-official==2.3) (20.9)\n",
      "Requirement already satisfied: google-cloud-core<3.0.0dev,>=1.4.1 in c:\\users\\menie\\anaconda3\\lib\\site-packages (from google-cloud-bigquery>=0.31.0->tf-models-official==2.3) (2.2.1)\n",
      "Requirement already satisfied: python-dateutil<3.0dev,>=2.7.2 in c:\\users\\menie\\anaconda3\\lib\\site-packages (from google-cloud-bigquery>=0.31.0->tf-models-official==2.3) (2.8.1)\n",
      "Requirement already satisfied: grpcio<2.0dev,>=1.38.1 in c:\\users\\menie\\anaconda3\\lib\\site-packages (from google-cloud-bigquery>=0.31.0->tf-models-official==2.3) (1.42.0)\n",
      "Requirement already satisfied: grpcio-status<2.0dev,>=1.33.2 in c:\\users\\menie\\anaconda3\\lib\\site-packages (from google-api-core<3.0.0dev,>=1.21.0->google-api-python-client>=1.6.7->tf-models-official==2.3) (1.42.0)\n",
      "Requirement already satisfied: google-crc32c<2.0dev,>=1.0 in c:\\users\\menie\\anaconda3\\lib\\site-packages (from google-resumable-media<3.0dev,>=0.6.0->google-cloud-bigquery>=0.31.0->tf-models-official==2.3) (1.3.0)\n",
      "Requirement already satisfied: pyparsing!=3.0.0,!=3.0.1,!=3.0.2,!=3.0.3,<4,>=2.4.2 in c:\\users\\menie\\anaconda3\\lib\\site-packages (from httplib2<1dev,>=0.15.0->google-api-python-client>=1.6.7->tf-models-official==2.3) (2.4.7)\n",
      "Requirement already satisfied: tqdm in c:\\users\\menie\\anaconda3\\lib\\site-packages (from kaggle>=1.3.9->tf-models-official==2.3) (4.59.0)\n",
      "Requirement already satisfied: urllib3 in c:\\users\\menie\\anaconda3\\lib\\site-packages (from kaggle>=1.3.9->tf-models-official==2.3) (1.26.4)\n",
      "Requirement already satisfied: python-slugify in c:\\users\\menie\\anaconda3\\lib\\site-packages (from kaggle>=1.3.9->tf-models-official==2.3) (5.0.2)\n",
      "Requirement already satisfied: certifi in c:\\users\\menie\\anaconda3\\lib\\site-packages (from kaggle>=1.3.9->tf-models-official==2.3) (2020.12.5)\n",
      "Requirement already satisfied: pytz>=2017.3 in c:\\users\\menie\\anaconda3\\lib\\site-packages (from pandas>=0.22.0->tf-models-official==2.3) (2021.1)\n",
      "Requirement already satisfied: pyasn1<0.5.0,>=0.4.6 in c:\\users\\menie\\anaconda3\\lib\\site-packages (from pyasn1-modules>=0.2.1->google-auth<3.0.0dev,>=1.16.0->google-api-python-client>=1.6.7->tf-models-official==2.3) (0.4.8)\n",
      "Requirement already satisfied: idna<3,>=2.5 in c:\\users\\menie\\anaconda3\\lib\\site-packages (from requests<3.0.0dev,>=2.18.0->google-api-core<3.0.0dev,>=1.21.0->google-api-python-client>=1.6.7->tf-models-official==2.3) (2.10)\n",
      "Requirement already satisfied: chardet<5,>=3.0.2 in c:\\users\\menie\\anaconda3\\lib\\site-packages (from requests<3.0.0dev,>=2.18.0->google-api-core<3.0.0dev,>=1.21.0->google-api-python-client>=1.6.7->tf-models-official==2.3) (4.0.0)\n",
      "Requirement already satisfied: opt-einsum>=2.3.2 in c:\\users\\menie\\anaconda3\\lib\\site-packages (from tensorflow>=2.3.0->tf-models-official==2.3) (3.3.0)\n",
      "Requirement already satisfied: termcolor>=1.1.0 in c:\\users\\menie\\anaconda3\\lib\\site-packages (from tensorflow>=2.3.0->tf-models-official==2.3) (1.1.0)\n",
      "Requirement already satisfied: wheel<1.0,>=0.32.0 in c:\\users\\menie\\anaconda3\\lib\\site-packages (from tensorflow>=2.3.0->tf-models-official==2.3) (0.36.2)\n",
      "Requirement already satisfied: flatbuffers<3.0,>=1.12 in c:\\users\\menie\\anaconda3\\lib\\site-packages (from tensorflow>=2.3.0->tf-models-official==2.3) (2.0)\n",
      "Requirement already satisfied: absl-py>=0.4.0 in c:\\users\\menie\\anaconda3\\lib\\site-packages (from tensorflow>=2.3.0->tf-models-official==2.3) (0.12.0)\n",
      "Requirement already satisfied: libclang>=9.0.1 in c:\\users\\menie\\anaconda3\\lib\\site-packages (from tensorflow>=2.3.0->tf-models-official==2.3) (12.0.0)\n",
      "Requirement already satisfied: typing-extensions>=3.6.6 in c:\\users\\menie\\anaconda3\\lib\\site-packages (from tensorflow>=2.3.0->tf-models-official==2.3) (3.7.4.3)\n",
      "Requirement already satisfied: gast<0.5.0,>=0.2.1 in c:\\users\\menie\\anaconda3\\lib\\site-packages (from tensorflow>=2.3.0->tf-models-official==2.3) (0.4.0)\n",
      "Requirement already satisfied: wrapt>=1.11.0 in c:\\users\\menie\\anaconda3\\lib\\site-packages (from tensorflow>=2.3.0->tf-models-official==2.3) (1.12.1)\n",
      "Requirement already satisfied: google-pasta>=0.1.1 in c:\\users\\menie\\anaconda3\\lib\\site-packages (from tensorflow>=2.3.0->tf-models-official==2.3) (0.2.0)\n",
      "Requirement already satisfied: tensorboard~=2.6 in c:\\users\\menie\\anaconda3\\lib\\site-packages (from tensorflow>=2.3.0->tf-models-official==2.3) (2.7.0)\n",
      "Requirement already satisfied: keras<2.8,>=2.7.0rc0 in c:\\users\\menie\\anaconda3\\lib\\site-packages (from tensorflow>=2.3.0->tf-models-official==2.3) (2.7.0)\n",
      "Requirement already satisfied: astunparse>=1.6.0 in c:\\users\\menie\\anaconda3\\lib\\site-packages (from tensorflow>=2.3.0->tf-models-official==2.3) (1.6.3)\n",
      "Requirement already satisfied: tensorflow-io-gcs-filesystem>=0.21.0 in c:\\users\\menie\\anaconda3\\lib\\site-packages (from tensorflow>=2.3.0->tf-models-official==2.3) (0.22.0)\n",
      "Requirement already satisfied: keras-preprocessing>=1.1.1 in c:\\users\\menie\\anaconda3\\lib\\site-packages (from tensorflow>=2.3.0->tf-models-official==2.3) (1.1.2)\n",
      "Requirement already satisfied: h5py>=2.9.0 in c:\\users\\menie\\anaconda3\\lib\\site-packages (from tensorflow>=2.3.0->tf-models-official==2.3) (2.10.0)\n",
      "Requirement already satisfied: tensorflow-estimator<2.8,~=2.7.0rc0 in c:\\users\\menie\\anaconda3\\lib\\site-packages (from tensorflow>=2.3.0->tf-models-official==2.3) (2.7.0)\n",
      "Requirement already satisfied: tensorboard-plugin-wit>=1.6.0 in c:\\users\\menie\\anaconda3\\lib\\site-packages (from tensorboard~=2.6->tensorflow>=2.3.0->tf-models-official==2.3) (1.8.0)\n",
      "Requirement already satisfied: markdown>=2.6.8 in c:\\users\\menie\\anaconda3\\lib\\site-packages (from tensorboard~=2.6->tensorflow>=2.3.0->tf-models-official==2.3) (3.3.6)\n",
      "Requirement already satisfied: tensorboard-data-server<0.7.0,>=0.6.0 in c:\\users\\menie\\anaconda3\\lib\\site-packages (from tensorboard~=2.6->tensorflow>=2.3.0->tf-models-official==2.3) (0.6.1)\n",
      "Requirement already satisfied: werkzeug>=0.11.15 in c:\\users\\menie\\anaconda3\\lib\\site-packages (from tensorboard~=2.6->tensorflow>=2.3.0->tf-models-official==2.3) (2.0.2)\n",
      "Requirement already satisfied: google-auth-oauthlib<0.5,>=0.4.1 in c:\\users\\menie\\anaconda3\\lib\\site-packages (from tensorboard~=2.6->tensorflow>=2.3.0->tf-models-official==2.3) (0.4.6)\n",
      "Requirement already satisfied: requests-oauthlib>=0.7.0 in c:\\users\\menie\\anaconda3\\lib\\site-packages (from google-auth-oauthlib<0.5,>=0.4.1->tensorboard~=2.6->tensorflow>=2.3.0->tf-models-official==2.3) (1.3.0)\n",
      "Requirement already satisfied: importlib-metadata>=4.4 in c:\\users\\menie\\anaconda3\\lib\\site-packages (from markdown>=2.6.8->tensorboard~=2.6->tensorflow>=2.3.0->tf-models-official==2.3) (4.8.2)\n",
      "Requirement already satisfied: zipp>=0.5 in c:\\users\\menie\\anaconda3\\lib\\site-packages (from importlib-metadata>=4.4->markdown>=2.6.8->tensorboard~=2.6->tensorflow>=2.3.0->tf-models-official==2.3) (3.4.1)\n",
      "Requirement already satisfied: oauthlib>=3.0.0 in c:\\users\\menie\\anaconda3\\lib\\site-packages (from requests-oauthlib>=0.7.0->google-auth-oauthlib<0.5,>=0.4.1->tensorboard~=2.6->tensorflow>=2.3.0->tf-models-official==2.3) (3.1.1)\n",
      "Requirement already satisfied: dm-tree~=0.1.1 in c:\\users\\menie\\anaconda3\\lib\\site-packages (from tensorflow-model-optimization>=0.2.1->tf-models-official==2.3) (0.1.6)\n",
      "Requirement already satisfied: kiwisolver>=1.0.1 in c:\\users\\menie\\anaconda3\\lib\\site-packages (from matplotlib->tf-models-official==2.3) (1.3.1)\n",
      "Requirement already satisfied: cycler>=0.10 in c:\\users\\menie\\anaconda3\\lib\\site-packages (from matplotlib->tf-models-official==2.3) (0.10.0)\n",
      "Requirement already satisfied: text-unidecode>=1.3 in c:\\users\\menie\\anaconda3\\lib\\site-packages (from python-slugify->kaggle>=1.3.9->tf-models-official==2.3) (1.3)\n",
      "Requirement already satisfied: typeguard>=2.7 in c:\\users\\menie\\anaconda3\\lib\\site-packages (from tensorflow-addons->tf-models-official==2.3) (2.13.2)\n",
      "Requirement already satisfied: importlib-resources in c:\\users\\menie\\anaconda3\\lib\\site-packages (from tensorflow-datasets->tf-models-official==2.3) (5.4.0)\n",
      "Requirement already satisfied: future in c:\\users\\menie\\anaconda3\\lib\\site-packages (from tensorflow-datasets->tf-models-official==2.3) (0.18.2)\n",
      "Requirement already satisfied: dill in c:\\users\\menie\\anaconda3\\lib\\site-packages (from tensorflow-datasets->tf-models-official==2.3) (0.3.4)\n",
      "Requirement already satisfied: attrs>=18.1.0 in c:\\users\\menie\\anaconda3\\lib\\site-packages (from tensorflow-datasets->tf-models-official==2.3) (20.3.0)\n",
      "Requirement already satisfied: promise in c:\\users\\menie\\anaconda3\\lib\\site-packages (from tensorflow-datasets->tf-models-official==2.3) (2.3)\n",
      "Requirement already satisfied: tensorflow-metadata in c:\\users\\menie\\anaconda3\\lib\\site-packages (from tensorflow-datasets->tf-models-official==2.3) (1.4.0)\n"
     ]
    }
   ],
   "source": [
    "!pip install tf-models-official==2.3"
   ]
  },
  {
   "cell_type": "code",
   "execution_count": 203,
   "id": "302f18ec",
   "metadata": {},
   "outputs": [
    {
     "ename": "ModuleNotFoundError",
     "evalue": "No module named 'tensorflow_text.core'",
     "output_type": "error",
     "traceback": [
      "\u001b[1;31m---------------------------------------------------------------------------\u001b[0m",
      "\u001b[1;31mModuleNotFoundError\u001b[0m                       Traceback (most recent call last)",
      "\u001b[1;32m<ipython-input-203-e019e5f5353b>\u001b[0m in \u001b[0;36m<module>\u001b[1;34m\u001b[0m\n\u001b[0;32m      1\u001b[0m \u001b[1;32mimport\u001b[0m \u001b[0mtensorflow\u001b[0m \u001b[1;32mas\u001b[0m \u001b[0mtf\u001b[0m\u001b[1;33m\u001b[0m\u001b[1;33m\u001b[0m\u001b[0m\n\u001b[0;32m      2\u001b[0m \u001b[1;32mimport\u001b[0m \u001b[0mtensorflow_hub\u001b[0m \u001b[1;32mas\u001b[0m \u001b[0mhub\u001b[0m\u001b[1;33m\u001b[0m\u001b[1;33m\u001b[0m\u001b[0m\n\u001b[1;32m----> 3\u001b[1;33m \u001b[1;32mimport\u001b[0m \u001b[0mtensorflow_text\u001b[0m \u001b[1;32mas\u001b[0m \u001b[0mtext\u001b[0m\u001b[1;33m\u001b[0m\u001b[1;33m\u001b[0m\u001b[0m\n\u001b[0m\u001b[0;32m      4\u001b[0m \u001b[1;32mfrom\u001b[0m \u001b[0mofficial\u001b[0m\u001b[1;33m.\u001b[0m\u001b[0mnlp\u001b[0m \u001b[1;32mimport\u001b[0m \u001b[0moptimization\u001b[0m\u001b[1;33m\u001b[0m\u001b[1;33m\u001b[0m\u001b[0m\n",
      "\u001b[1;32m~\\Anaconda3\\lib\\site-packages\\tensorflow_text\\__init__.py\u001b[0m in \u001b[0;36m<module>\u001b[1;34m\u001b[0m\n\u001b[0;32m     18\u001b[0m \u001b[1;33m\u001b[0m\u001b[0m\n\u001b[0;32m     19\u001b[0m \u001b[1;31m# pylint: disable=wildcard-import\u001b[0m\u001b[1;33m\u001b[0m\u001b[1;33m\u001b[0m\u001b[1;33m\u001b[0m\u001b[0m\n\u001b[1;32m---> 20\u001b[1;33m \u001b[1;32mfrom\u001b[0m \u001b[0mtensorflow_text\u001b[0m\u001b[1;33m.\u001b[0m\u001b[0mcore\u001b[0m\u001b[1;33m.\u001b[0m\u001b[0mpybinds\u001b[0m \u001b[1;32mimport\u001b[0m \u001b[0mtflite_registrar\u001b[0m\u001b[1;33m\u001b[0m\u001b[1;33m\u001b[0m\u001b[0m\n\u001b[0m\u001b[0;32m     21\u001b[0m \u001b[1;32mfrom\u001b[0m \u001b[0mtensorflow_text\u001b[0m\u001b[1;33m.\u001b[0m\u001b[0mpython\u001b[0m \u001b[1;32mimport\u001b[0m \u001b[0mkeras\u001b[0m\u001b[1;33m\u001b[0m\u001b[1;33m\u001b[0m\u001b[0m\n\u001b[0;32m     22\u001b[0m \u001b[1;32mfrom\u001b[0m \u001b[0mtensorflow_text\u001b[0m\u001b[1;33m.\u001b[0m\u001b[0mpython\u001b[0m \u001b[1;32mimport\u001b[0m \u001b[0mmetrics\u001b[0m\u001b[1;33m\u001b[0m\u001b[1;33m\u001b[0m\u001b[0m\n",
      "\u001b[1;31mModuleNotFoundError\u001b[0m: No module named 'tensorflow_text.core'"
     ]
    }
   ],
   "source": [
    "import tensorflow as tf\n",
    "import tensorflow_hub as hub\n",
    "import tensorflow_text as text\n",
    "from official.nlp import optimization"
   ]
  },
  {
   "cell_type": "markdown",
   "id": "d0f5d491",
   "metadata": {},
   "source": [
    "#### Result with and without test/train split"
   ]
  },
  {
   "cell_type": "code",
   "execution_count": 204,
   "id": "6d8b7f7f",
   "metadata": {},
   "outputs": [],
   "source": [
    "from sklearn.model_selection import train_test_split\n",
    "X_train, X_valid, y_train, y_valid = train_test_split(train_ndf['message'].tolist(),\\\n",
    "                                                      train_ndf['sentiment'].tolist(),\\\n",
    "                                                      test_size=0.05,\\\n",
    "                                                      stratify = train_ndf['sentiment'].tolist(),\\\n",
    "                                                      random_state=0)"
   ]
  },
  {
   "cell_type": "code",
   "execution_count": 196,
   "id": "e9c0d79f",
   "metadata": {},
   "outputs": [
    {
     "name": "stdout",
     "output_type": "stream",
     "text": [
      "<BatchDataset shapes: ((None,), (None,)), types: (tf.string, tf.int32)>\n"
     ]
    }
   ],
   "source": [
    "batch_size = 32\n",
    "seed = 42\n",
    "train_ds = tf.data.Dataset.from_tensor_slices((train_ndf['message'].tolist(),train_ndf['sentiment'].tolist())).batch(batch_size)\n",
    "valid_ds = tf.data.Dataset.from_tensor_slices((X_valid,y_valid)).batch(batch_size)\n",
    "print(train_ds)"
   ]
  },
  {
   "cell_type": "code",
   "execution_count": 197,
   "id": "577f3298",
   "metadata": {},
   "outputs": [
    {
     "name": "stdout",
     "output_type": "stream",
     "text": [
      "BERT model: https://tfhub.dev/tensorflow/bert_en_uncased_L-12_H-768_A-12/3\n",
      "Preprocess model: https://tfhub.dev/tensorflow/bert_en_uncased_preprocess/2\n"
     ]
    }
   ],
   "source": [
    "#@title Choose a BERT model to fine-tune\n",
    "\n",
    "bert_model = 'bert_en_uncased_L-12_H-768_A-12'\n",
    "\n",
    "map_name_handle = {\n",
    "    'bert_en_uncased_L-12_H-768_A-12':\n",
    "        'https://tfhub.dev/tensorflow/bert_en_uncased_L-12_H-768_A-12/3'}\n",
    "map_model_prepro = {\n",
    "    'bert_en_uncased_L-12_H-768_A-12':\n",
    "        'https://tfhub.dev/tensorflow/bert_en_uncased_preprocess/2'}\n",
    "\n",
    "tfhub_encoder = map_name_handle[bert_model]\n",
    "tfhub_prepro = map_model_prepro[bert_model]\n",
    "\n",
    "print(f'BERT model: {tfhub_encoder}')\n",
    "print(f'Preprocess model: {tfhub_prepro}')"
   ]
  },
  {
   "cell_type": "code",
   "execution_count": 198,
   "id": "52bc3d24",
   "metadata": {},
   "outputs": [],
   "source": [
    "def class_model():\n",
    "    mesg_input = tf.keras.layers.Input(shape=(), dtype=tf.string, name='message')\n",
    "    prepro_layer = hub.KerasLayer(tfhub_prepro, name='prepro')\n",
    "    enc_in = preprocessing_layer(mesg_input)\n",
    "    enc = hub.KerasLayer(tfhub_encoder, trainable=True, name='BERT_encoder')\n",
    "    enc_out = enc(enc_in)\n",
    "    net = outputs['pooled_output']\n",
    "    net = tf.keras.layers.Dropout(0.1)(net)\n",
    "    net = tf.keras.layers.Dense(1, activation= \"sigmoid\" , name='classifier')(net)\n",
    "    return tf.keras.model(message_input, net)"
   ]
  },
  {
   "cell_type": "code",
   "execution_count": 199,
   "id": "22ea2868",
   "metadata": {},
   "outputs": [],
   "source": [
    "loss = tf.keras.losses.BinaryCrossentropy(from_logits=True)\n",
    "metrics = tf.metrics.BinaryAccuracy()"
   ]
  },
  {
   "cell_type": "code",
   "execution_count": null,
   "id": "42336999",
   "metadata": {},
   "outputs": [],
   "source": []
  },
  {
   "cell_type": "code",
   "execution_count": null,
   "id": "83283711",
   "metadata": {},
   "outputs": [],
   "source": []
  }
 ],
 "metadata": {
  "kernelspec": {
   "display_name": "Python 3",
   "language": "python",
   "name": "python3"
  },
  "language_info": {
   "codemirror_mode": {
    "name": "ipython",
    "version": 3
   },
   "file_extension": ".py",
   "mimetype": "text/x-python",
   "name": "python",
   "nbconvert_exporter": "python",
   "pygments_lexer": "ipython3",
   "version": "3.8.8"
  }
 },
 "nbformat": 4,
 "nbformat_minor": 5
}
