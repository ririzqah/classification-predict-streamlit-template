{
  "nbformat": 4,
  "nbformat_minor": 0,
  "metadata": {
    "kernelspec": {
      "display_name": "Python 3",
      "language": "python",
      "name": "python3"
    },
    "language_info": {
      "codemirror_mode": {
        "name": "ipython",
        "version": 3
      },
      "file_extension": ".py",
      "mimetype": "text/x-python",
      "name": "python",
      "nbconvert_exporter": "python",
      "pygments_lexer": "ipython3",
      "version": "3.8.8"
    },
    "colab": {
      "name": "Team16_model (5).ipynb",
      "provenance": [],
      "include_colab_link": true
    }
  },
  "cells": [
    {
      "cell_type": "markdown",
      "metadata": {
        "id": "view-in-github",
        "colab_type": "text"
      },
      "source": [
        "<a href=\"https://colab.research.google.com/github/ririzqah/classification-predict-streamlit-template/blob/master/Team16_model%20(5).ipynb\" target=\"_parent\"><img src=\"https://colab.research.google.com/assets/colab-badge.svg\" alt=\"Open In Colab\"/></a>"
      ]
    },
    {
      "cell_type": "markdown",
      "metadata": {
        "id": "IRpFyKWDsfGP"
      },
      "source": [
        "# **Climate Change Classification Predict**\n",
        "\n",
        "## Team 16\n",
        "- Mashele Neo Ntsako \n",
        "- Meniers Rizqah\n",
        "- Mzobe Zama \n",
        "- Nkadimeng Botseetsa Loveness \n",
        "- Thobejane Tladi Thaane \n"
      ]
    },
    {
      "cell_type": "markdown",
      "metadata": {
        "id": "xYuig1dyuECf"
      },
      "source": [
        "## Table of Contents\n",
        "\n",
        "<a href=#one> Introduction</a>\n",
        "\n",
        "<a href=#two> Problem Statement\n",
        "\n",
        "<a href=#three> Objectives</a>\n",
        "\n",
        "<a href=#one>1. Importing Packages</a>\n",
        "\n",
        "<a href=#two>2. Loading Data</a>\n",
        "\n",
        "<a href=#three>3. Data Preprocessing</a>\n",
        "\n",
        "<a href=#four>4. Exploratory Data Analysis (EDA)</a>\n",
        "\n",
        "<a href=#five>5. Data Engineering</a>\n",
        "\n",
        "<a href=#six>6. Modeling</a>\n",
        "\n",
        "<a href=#seven>7. Model Performance</a>\n",
        "\n",
        "<a href=#eight>8. Model Explanations</a>\n",
        "\n",
        "<a href=#snine> Conclusion</a>"
      ]
    },
    {
      "cell_type": "markdown",
      "metadata": {
        "id": "TY6B0MsdtYzH"
      },
      "source": [
        "## Introduction"
      ]
    },
    {
      "cell_type": "markdown",
      "metadata": {
        "id": "ta-KgNc1taIv"
      },
      "source": [
        "### Predict Overview: Climate Change Challenge\n",
        "\n",
        "Over the course of millions of years, the global climate has experienced fluctuations. These shifts may be natural, but since the beginning of industrialisation, however, the composition of the atmosphere has changed as a result of greenhouse gas emissions. This global warming caused by human activities such as burning of fossil fuels intensifies the natural greenhouse effect and is leading to detectable changes to the climate. This global warming also has a significant effect on people and nature.\n",
        "\n",
        "\n",
        " The average global surface temperature has already increased by 1.04°C in the last 130 years. In particular, according to the scientific reports of the Intergovernmental Panel on Climate Change (IPCC), the sharp increase in global warming since 1950 can no longer be explained by natural climate fluctuations. It is highly likely that greenhouse gases such as carbon dioxide (CO₂) are responsible for this, which enter the atmosphere through the burning of fossil fuels such as coal, crude oil and natural gas and through large-​scale land use, for example, the deforestation of tropical rainforests, and increase the greenhouse effect.\n",
        "\n",
        "\n",
        "## Problem Statement\n",
        "\n",
        "In this project we are tasked to create a machine learning model that will be able to classify whether or not a person believes in climate change, based on their novel tweet data. The provision of an accurate and robust solution to this task gives will give companies access to a broad base of consumer sentiment, spanning multiple demographic and geographic categories - thus increasing their insights and informing future marketing strategies.\n",
        "\n",
        "\n",
        "\n",
        "\n",
        "## Objectives\n",
        "\n",
        "The key objectives of this research project are as follow:\n",
        "\n",
        "- Determine if some categories should be removed or not to better the performance of the model.\n",
        "- Create a machine learning model that is able to classify whether or not a person believes in climate change, based on their novel tweet data.\n",
        "- Evaluate the accuracy of the best machine learning model.\n",
        "\n"
      ]
    },
    {
      "cell_type": "markdown",
      "metadata": {
        "id": "AlCSfEt-sy4n"
      },
      "source": [
        "<a id=\"one\"></a>\n",
        "## 1. Importing packages"
      ]
    },
    {
      "cell_type": "code",
      "metadata": {
        "colab": {
          "base_uri": "https://localhost:8080/"
        },
        "id": "t8cvume7UQed",
        "outputId": "4a94b4a9-caf9-422c-8026-46a22db991e5"
      },
      "source": [
        "# Libraries for data loading, data manipulation and data visulisation\n",
        "import nltk\n",
        "import re\n",
        "import csv\n",
        "import string\n",
        "from PIL import Image\n",
        "from wordcloud import WordCloud\n",
        "import pandas as pd\n",
        "import matplotlib.pyplot as plt\n",
        "import seaborn as sns \n",
        "import numpy as np\n",
        "from sklearn.preprocessing import LabelEncoder\n",
        "import warnings\n",
        "warnings.filterwarnings(\"ignore\")\n",
        "\n",
        "# Downloads\n",
        "#nlp = spacy.load('en')\n",
        "nltk.download('punkt')\n",
        "nltk.download('wordnet')\n",
        "nltk.download('stopwords')\n",
        "nltk.download('averaged_perceptron_tagger')\n",
        "\n",
        "# Libraries for data preparation and model building\n",
        "from collections import Counter\n",
        "from nltk.probability import FreqDist\n",
        "from nltk.tokenize import word_tokenize, TreebankWordTokenizer\n",
        "from nltk import SnowballStemmer, PorterStemmer, LancasterStemmer\n",
        "from nltk.stem import WordNetLemmatizer \n",
        "from nltk.corpus import stopwords, wordnet  \n",
        "from sklearn.feature_extraction.text import CountVectorizer   \n",
        "from sklearn.feature_extraction.text import TfidfVectorizer\n",
        "from sklearn.feature_extraction.text import TfidfTransformer\n",
        "from sklearn.feature_selection import VarianceThreshold\n",
        "from sklearn import feature_selection\n",
        "from sklearn.feature_selection import f_classif\n",
        "\n",
        "from sklearn.preprocessing import StandardScaler\n",
        "from sklearn.model_selection import train_test_split, GridSearchCV\n",
        "from sklearn.linear_model import LinearRegression\n",
        "from sklearn.svm import LinearSVC, SVC\n",
        "from sklearn.pipeline import Pipeline\n",
        "from sklearn.naive_bayes import MultinomialNB, GaussianNB\n",
        "from sklearn.linear_model import LogisticRegression\n",
        "from sklearn.tree import DecisionTreeClassifier\n",
        "from sklearn.ensemble import RandomForestClassifier\n",
        "from sklearn.neighbors import KNeighborsClassifier\n",
        "from sklearn.utils import resample\n",
        "\n",
        "from sklearn.metrics import mean_squared_error\n",
        "from sklearn.metrics import confusion_matrix, f1_score, precision_score, recall_score\n",
        "from sklearn.metrics import classification_report, accuracy_score\n",
        "from sklearn import metrics\n",
        "\n",
        "# Setting global constants to ensure notebook results are reproducible\n",
        "pd.set_option('display.max_rows', None)\n",
        "pd.set_option('display.max_columns', None)\n",
        "sns.set(rc={'figure.figsize':(8,5)})"
      ],
      "execution_count": 39,
      "outputs": [
        {
          "output_type": "stream",
          "name": "stdout",
          "text": [
            "[nltk_data] Downloading package punkt to /root/nltk_data...\n",
            "[nltk_data]   Package punkt is already up-to-date!\n",
            "[nltk_data] Downloading package wordnet to /root/nltk_data...\n",
            "[nltk_data]   Package wordnet is already up-to-date!\n",
            "[nltk_data] Downloading package stopwords to /root/nltk_data...\n",
            "[nltk_data]   Package stopwords is already up-to-date!\n",
            "[nltk_data] Downloading package averaged_perceptron_tagger to\n",
            "[nltk_data]     /root/nltk_data...\n",
            "[nltk_data]   Package averaged_perceptron_tagger is already up-to-\n",
            "[nltk_data]       date!\n"
          ]
        }
      ]
    },
    {
      "cell_type": "markdown",
      "source": [
        "## THE TWEETS ARE CATEGORICAL INTO FOUR CATEGORIES\n",
        "\n",
        "\n",
        "[ 2 ] News : Tweets linked to factual news about climate change.\n",
        "\n",
        "[ 1 ] Pro : Tweets that support the belief of man-made climate change.\n",
        "\n",
        "[ 0 ] Neutral : Tweets that neither support nor refuse beliefs of climate change.\n",
        "\n",
        "[-1 ] Anti : Tweets that do not support the belief of man-made climate change."
      ],
      "metadata": {
        "id": "lsBcd3loDGW_"
      }
    },
    {
      "cell_type": "markdown",
      "metadata": {
        "id": "peJsNXuUufaZ"
      },
      "source": [
        "<a id=\"two\"></a>\n",
        "## 2. Loading the Data"
      ]
    },
    {
      "cell_type": "code",
      "metadata": {
        "id": "AKexTVVtUQeh"
      },
      "source": [
        "#Loading data so that we know the data we are about to analys\n",
        "df_train = pd.read_csv('https://raw.githubusercontent.com/ririzqah/classification-predict-streamlit-template/master/train.csv')\n",
        "df_test = pd.read_csv('https://raw.githubusercontent.com/ririzqah/classification-predict-streamlit-template/master/test_with_no_labels.csv')"
      ],
      "execution_count": 40,
      "outputs": []
    },
    {
      "cell_type": "markdown",
      "metadata": {
        "id": "itG3AElwuzye"
      },
      "source": [
        "<a id=\"three\"></a>\n",
        "## 3. Data Preprocessing\n",
        "\n",
        "Data preprocessing is the process of transforming raw data into an understandable format. It is also an important step in data mining as we cannot work with raw data. The quality of the data should be checked before applying machine learning or data mining algorithms.\n",
        "\n",
        "In this section we will manipulate or drop unnecessary data from the data set before it is used in order to ensure or enhance performance."
      ]
    },
    {
      "cell_type": "code",
      "metadata": {
        "colab": {
          "base_uri": "https://localhost:8080/",
          "height": 206
        },
        "id": "naeK4FvZxizp",
        "outputId": "1cc6c0de-75cd-4cbd-bd63-0ce30b3a50eb"
      },
      "source": [
        "#view train dataset\n",
        "df_train.head()"
      ],
      "execution_count": 41,
      "outputs": [
        {
          "output_type": "execute_result",
          "data": {
            "text/html": [
              "<div>\n",
              "<style scoped>\n",
              "    .dataframe tbody tr th:only-of-type {\n",
              "        vertical-align: middle;\n",
              "    }\n",
              "\n",
              "    .dataframe tbody tr th {\n",
              "        vertical-align: top;\n",
              "    }\n",
              "\n",
              "    .dataframe thead th {\n",
              "        text-align: right;\n",
              "    }\n",
              "</style>\n",
              "<table border=\"1\" class=\"dataframe\">\n",
              "  <thead>\n",
              "    <tr style=\"text-align: right;\">\n",
              "      <th></th>\n",
              "      <th>sentiment</th>\n",
              "      <th>message</th>\n",
              "      <th>tweetid</th>\n",
              "    </tr>\n",
              "  </thead>\n",
              "  <tbody>\n",
              "    <tr>\n",
              "      <th>0</th>\n",
              "      <td>1</td>\n",
              "      <td>PolySciMajor EPA chief doesn't think carbon di...</td>\n",
              "      <td>625221</td>\n",
              "    </tr>\n",
              "    <tr>\n",
              "      <th>1</th>\n",
              "      <td>1</td>\n",
              "      <td>It's not like we lack evidence of anthropogeni...</td>\n",
              "      <td>126103</td>\n",
              "    </tr>\n",
              "    <tr>\n",
              "      <th>2</th>\n",
              "      <td>2</td>\n",
              "      <td>RT @RawStory: Researchers say we have three ye...</td>\n",
              "      <td>698562</td>\n",
              "    </tr>\n",
              "    <tr>\n",
              "      <th>3</th>\n",
              "      <td>1</td>\n",
              "      <td>#TodayinMaker# WIRED : 2016 was a pivotal year...</td>\n",
              "      <td>573736</td>\n",
              "    </tr>\n",
              "    <tr>\n",
              "      <th>4</th>\n",
              "      <td>1</td>\n",
              "      <td>RT @SoyNovioDeTodas: It's 2016, and a racist, ...</td>\n",
              "      <td>466954</td>\n",
              "    </tr>\n",
              "  </tbody>\n",
              "</table>\n",
              "</div>"
            ],
            "text/plain": [
              "   sentiment                                            message  tweetid\n",
              "0          1  PolySciMajor EPA chief doesn't think carbon di...   625221\n",
              "1          1  It's not like we lack evidence of anthropogeni...   126103\n",
              "2          2  RT @RawStory: Researchers say we have three ye...   698562\n",
              "3          1  #TodayinMaker# WIRED : 2016 was a pivotal year...   573736\n",
              "4          1  RT @SoyNovioDeTodas: It's 2016, and a racist, ...   466954"
            ]
          },
          "metadata": {},
          "execution_count": 41
        }
      ]
    },
    {
      "cell_type": "code",
      "metadata": {
        "colab": {
          "base_uri": "https://localhost:8080/",
          "height": 206
        },
        "id": "cBKuTxsqyRvD",
        "outputId": "8d724ccb-05bf-4f04-907a-f8ae4733ed21"
      },
      "source": [
        "#view train dataset\n",
        "df_test.head()"
      ],
      "execution_count": 42,
      "outputs": [
        {
          "output_type": "execute_result",
          "data": {
            "text/html": [
              "<div>\n",
              "<style scoped>\n",
              "    .dataframe tbody tr th:only-of-type {\n",
              "        vertical-align: middle;\n",
              "    }\n",
              "\n",
              "    .dataframe tbody tr th {\n",
              "        vertical-align: top;\n",
              "    }\n",
              "\n",
              "    .dataframe thead th {\n",
              "        text-align: right;\n",
              "    }\n",
              "</style>\n",
              "<table border=\"1\" class=\"dataframe\">\n",
              "  <thead>\n",
              "    <tr style=\"text-align: right;\">\n",
              "      <th></th>\n",
              "      <th>message</th>\n",
              "      <th>tweetid</th>\n",
              "    </tr>\n",
              "  </thead>\n",
              "  <tbody>\n",
              "    <tr>\n",
              "      <th>0</th>\n",
              "      <td>Europe will now be looking to China to make su...</td>\n",
              "      <td>169760</td>\n",
              "    </tr>\n",
              "    <tr>\n",
              "      <th>1</th>\n",
              "      <td>Combine this with the polling of staffers re c...</td>\n",
              "      <td>35326</td>\n",
              "    </tr>\n",
              "    <tr>\n",
              "      <th>2</th>\n",
              "      <td>The scary, unimpeachable evidence that climate...</td>\n",
              "      <td>224985</td>\n",
              "    </tr>\n",
              "    <tr>\n",
              "      <th>3</th>\n",
              "      <td>@Karoli @morgfair @OsborneInk @dailykos \\nPuti...</td>\n",
              "      <td>476263</td>\n",
              "    </tr>\n",
              "    <tr>\n",
              "      <th>4</th>\n",
              "      <td>RT @FakeWillMoore: 'Female orgasms cause globa...</td>\n",
              "      <td>872928</td>\n",
              "    </tr>\n",
              "  </tbody>\n",
              "</table>\n",
              "</div>"
            ],
            "text/plain": [
              "                                             message  tweetid\n",
              "0  Europe will now be looking to China to make su...   169760\n",
              "1  Combine this with the polling of staffers re c...    35326\n",
              "2  The scary, unimpeachable evidence that climate...   224985\n",
              "3  @Karoli @morgfair @OsborneInk @dailykos \\nPuti...   476263\n",
              "4  RT @FakeWillMoore: 'Female orgasms cause globa...   872928"
            ]
          },
          "metadata": {},
          "execution_count": 42
        }
      ]
    },
    {
      "cell_type": "markdown",
      "metadata": {
        "id": "ryrTKWg0u-pn"
      },
      "source": [
        "## Data size and Structure"
      ]
    },
    {
      "cell_type": "code",
      "metadata": {
        "colab": {
          "base_uri": "https://localhost:8080/"
        },
        "id": "y6X7a8-TzGSI",
        "outputId": "bc65716f-ad71-4cab-84a2-f1202359eb12"
      },
      "source": [
        "#looking at the information of the dataset to know the data types of the features\n",
        "df_train.info()"
      ],
      "execution_count": 44,
      "outputs": [
        {
          "output_type": "stream",
          "name": "stdout",
          "text": [
            "<class 'pandas.core.frame.DataFrame'>\n",
            "Int64Index: 26365 entries, 0 to 10545\n",
            "Data columns (total 3 columns):\n",
            " #   Column     Non-Null Count  Dtype  \n",
            "---  ------     --------------  -----  \n",
            " 0   sentiment  15819 non-null  float64\n",
            " 1   message    26365 non-null  object \n",
            " 2   tweetid    26365 non-null  int64  \n",
            "dtypes: float64(1), int64(1), object(1)\n",
            "memory usage: 823.9+ KB\n"
          ]
        }
      ]
    },
    {
      "cell_type": "code",
      "metadata": {
        "colab": {
          "base_uri": "https://localhost:8080/"
        },
        "id": "gUFb1VTf0MS1",
        "outputId": "9f57ead3-260f-4473-f2b4-1e9c5a4bc053"
      },
      "source": [
        "# Finding unique values in sentiment\n",
        "df_train['sentiment'].unique()"
      ],
      "execution_count": 45,
      "outputs": [
        {
          "output_type": "execute_result",
          "data": {
            "text/plain": [
              "array([ 1,  2,  0, -1])"
            ]
          },
          "metadata": {},
          "execution_count": 45
        }
      ]
    },
    {
      "cell_type": "markdown",
      "source": [
        "Target variable/Dependent variable (sentiment) is discrete and categorical."
      ],
      "metadata": {
        "id": "S2U-oe1rPUDS"
      }
    },
    {
      "cell_type": "code",
      "metadata": {
        "colab": {
          "base_uri": "https://localhost:8080/"
        },
        "id": "R8CrhxdDzV9W",
        "outputId": "f2006f3d-e070-4824-eb5a-33708d3bdb76"
      },
      "source": [
        "#looking at the shape of the dataset\n",
        "df_train.shape"
      ],
      "execution_count": 46,
      "outputs": [
        {
          "output_type": "execute_result",
          "data": {
            "text/plain": [
              "(26365, 3)"
            ]
          },
          "metadata": {},
          "execution_count": 46
        }
      ]
    },
    {
      "cell_type": "code",
      "metadata": {
        "id": "6W4Hdvbvzddj"
      },
      "source": [
        "# Make a copy of the df so that if we make mistakes we can always refer to the original df\n",
        "df_new = df.copy()"
      ],
      "execution_count": 47,
      "outputs": []
    },
    {
      "cell_type": "markdown",
      "metadata": {
        "id": "GnOa20av4Mmm"
      },
      "source": [
        "## Removing noise from the dataset"
      ]
    },
    {
      "cell_type": "code",
      "metadata": {
        "colab": {
          "base_uri": "https://localhost:8080/",
          "height": 223
        },
        "id": "ex6v_Vwn4JkZ",
        "outputId": "1139c25a-b0d9-42bb-cfac-f43e4c8f1a3a"
      },
      "source": [
        "#removing noise such as web-urls, numbers and many more from the data set\n",
        "\n",
        "pattern_url = r'http[s]?://(?:[A-Za-z]|[0-9]|[$-_@.&+]|[!*\\(\\),]|(?:%[0-9A-Fa-f][0-9A-Fa-f]))+'\n",
        "subs_url = r'url-web'\n",
        "df_train['message'] = df_train['message'].replace(to_replace = pattern_url, value = subs_url, regex = True)\n",
        "df_test['message'] = df_test['message'].replace(to_replace = pattern_url, value = subs_url, regex = True)\n",
        "#string of punctuations\n",
        "print(string.punctuation)\n",
        "\n",
        "#function to remove punctuation\n",
        "def remove_punctuation(post):\n",
        "\n",
        "    \"\"\"\n",
        "    This function removes punctuation from tweets, removes words with less than \n",
        "    three letters and converts everything to lowercase letters.\n",
        "\n",
        "    Input:\n",
        "    tweet: original tweet\n",
        "           datatype: 'str'\n",
        "\n",
        "    Output:\n",
        "    tweet: modified tweet\n",
        "           datatype: 'str'\n",
        "    \"\"\"\n",
        "\n",
        "    return ''.join([l for l in post if l not in string.punctuation])\n",
        "\n",
        "df_train['message'] = df_train['message'].apply(remove_punctuation)\n",
        "df_test['message'] = df_test['message'].apply(remove_punctuation)\n",
        "\n",
        "# Remove all words below 3 characters\n",
        "df_train['newmessage'] = df_train['message'].apply(lambda x: ' '.join([w for w in x.split() if len(w)>3]))\n",
        "df_test['newmessage'] = df_test['message'].apply(lambda x: ' '.join([w for w in x.split() if len(w)>3]))\n",
        "\n",
        "# Changing from uppercase to lowercase\n",
        "df_train['newmessage'] = df_train['newmessage'].str.lower()\n",
        "df_test['newmessage'] = df_test['newmessage'].str.lower()\n",
        "\n",
        "df_train.head()"
      ],
      "execution_count": 48,
      "outputs": [
        {
          "output_type": "stream",
          "name": "stdout",
          "text": [
            "!\"#$%&'()*+,-./:;<=>?@[\\]^_`{|}~\n"
          ]
        },
        {
          "output_type": "execute_result",
          "data": {
            "text/html": [
              "<div>\n",
              "<style scoped>\n",
              "    .dataframe tbody tr th:only-of-type {\n",
              "        vertical-align: middle;\n",
              "    }\n",
              "\n",
              "    .dataframe tbody tr th {\n",
              "        vertical-align: top;\n",
              "    }\n",
              "\n",
              "    .dataframe thead th {\n",
              "        text-align: right;\n",
              "    }\n",
              "</style>\n",
              "<table border=\"1\" class=\"dataframe\">\n",
              "  <thead>\n",
              "    <tr style=\"text-align: right;\">\n",
              "      <th></th>\n",
              "      <th>sentiment</th>\n",
              "      <th>message</th>\n",
              "      <th>tweetid</th>\n",
              "      <th>newmessage</th>\n",
              "    </tr>\n",
              "  </thead>\n",
              "  <tbody>\n",
              "    <tr>\n",
              "      <th>0</th>\n",
              "      <td>1</td>\n",
              "      <td>PolySciMajor EPA chief doesnt think carbon dio...</td>\n",
              "      <td>625221</td>\n",
              "      <td>polyscimajor chief doesnt think carbon dioxide...</td>\n",
              "    </tr>\n",
              "    <tr>\n",
              "      <th>1</th>\n",
              "      <td>1</td>\n",
              "      <td>Its not like we lack evidence of anthropogenic...</td>\n",
              "      <td>126103</td>\n",
              "      <td>like lack evidence anthropogenic global warming</td>\n",
              "    </tr>\n",
              "    <tr>\n",
              "      <th>2</th>\n",
              "      <td>2</td>\n",
              "      <td>RT RawStory Researchers say we have three year...</td>\n",
              "      <td>698562</td>\n",
              "      <td>rawstory researchers have three years climate ...</td>\n",
              "    </tr>\n",
              "    <tr>\n",
              "      <th>3</th>\n",
              "      <td>1</td>\n",
              "      <td>TodayinMaker WIRED  2016 was a pivotal year in...</td>\n",
              "      <td>573736</td>\n",
              "      <td>todayinmaker wired 2016 pivotal year climate c...</td>\n",
              "    </tr>\n",
              "    <tr>\n",
              "      <th>4</th>\n",
              "      <td>1</td>\n",
              "      <td>RT SoyNovioDeTodas Its 2016 and a racist sexis...</td>\n",
              "      <td>466954</td>\n",
              "      <td>soynoviodetodas 2016 racist sexist climate cha...</td>\n",
              "    </tr>\n",
              "  </tbody>\n",
              "</table>\n",
              "</div>"
            ],
            "text/plain": [
              "   sentiment                                            message  tweetid  \\\n",
              "0          1  PolySciMajor EPA chief doesnt think carbon dio...   625221   \n",
              "1          1  Its not like we lack evidence of anthropogenic...   126103   \n",
              "2          2  RT RawStory Researchers say we have three year...   698562   \n",
              "3          1  TodayinMaker WIRED  2016 was a pivotal year in...   573736   \n",
              "4          1  RT SoyNovioDeTodas Its 2016 and a racist sexis...   466954   \n",
              "\n",
              "                                          newmessage  \n",
              "0  polyscimajor chief doesnt think carbon dioxide...  \n",
              "1    like lack evidence anthropogenic global warming  \n",
              "2  rawstory researchers have three years climate ...  \n",
              "3  todayinmaker wired 2016 pivotal year climate c...  \n",
              "4  soynoviodetodas 2016 racist sexist climate cha...  "
            ]
          },
          "metadata": {},
          "execution_count": 48
        }
      ]
    },
    {
      "cell_type": "markdown",
      "metadata": {
        "id": "YJ8kTpG1vSfc"
      },
      "source": [
        "<a id=\"four\"></a>\n",
        "## 4. Exploratory Data Analysis (EDA)"
      ]
    },
    {
      "cell_type": "markdown",
      "metadata": {
        "id": "JRjbf7icDFWd"
      },
      "source": [
        "### Univariate Analysis"
      ]
    },
    {
      "cell_type": "code",
      "metadata": {
        "id": "SDA2TZgJChNK",
        "colab": {
          "base_uri": "https://localhost:8080/",
          "height": 300
        },
        "outputId": "bf24a418-8cbe-49f4-ec68-fc0b132c041a"
      },
      "source": [
        "# looking at the summary statistics of the numerical features\n",
        "df.describe()"
      ],
      "execution_count": 49,
      "outputs": [
        {
          "output_type": "execute_result",
          "data": {
            "text/html": [
              "<div>\n",
              "<style scoped>\n",
              "    .dataframe tbody tr th:only-of-type {\n",
              "        vertical-align: middle;\n",
              "    }\n",
              "\n",
              "    .dataframe tbody tr th {\n",
              "        vertical-align: top;\n",
              "    }\n",
              "\n",
              "    .dataframe thead th {\n",
              "        text-align: right;\n",
              "    }\n",
              "</style>\n",
              "<table border=\"1\" class=\"dataframe\">\n",
              "  <thead>\n",
              "    <tr style=\"text-align: right;\">\n",
              "      <th></th>\n",
              "      <th>sentiment</th>\n",
              "      <th>tweetid</th>\n",
              "    </tr>\n",
              "  </thead>\n",
              "  <tbody>\n",
              "    <tr>\n",
              "      <th>count</th>\n",
              "      <td>15819.000000</td>\n",
              "      <td>26365.000000</td>\n",
              "    </tr>\n",
              "    <tr>\n",
              "      <th>mean</th>\n",
              "      <td>0.917504</td>\n",
              "      <td>499791.634971</td>\n",
              "    </tr>\n",
              "    <tr>\n",
              "      <th>std</th>\n",
              "      <td>0.836537</td>\n",
              "      <td>288678.408660</td>\n",
              "    </tr>\n",
              "    <tr>\n",
              "      <th>min</th>\n",
              "      <td>-1.000000</td>\n",
              "      <td>6.000000</td>\n",
              "    </tr>\n",
              "    <tr>\n",
              "      <th>25%</th>\n",
              "      <td>1.000000</td>\n",
              "      <td>249928.000000</td>\n",
              "    </tr>\n",
              "    <tr>\n",
              "      <th>50%</th>\n",
              "      <td>1.000000</td>\n",
              "      <td>499577.000000</td>\n",
              "    </tr>\n",
              "    <tr>\n",
              "      <th>75%</th>\n",
              "      <td>1.000000</td>\n",
              "      <td>748695.000000</td>\n",
              "    </tr>\n",
              "    <tr>\n",
              "      <th>max</th>\n",
              "      <td>2.000000</td>\n",
              "      <td>999983.000000</td>\n",
              "    </tr>\n",
              "  </tbody>\n",
              "</table>\n",
              "</div>"
            ],
            "text/plain": [
              "          sentiment        tweetid\n",
              "count  15819.000000   26365.000000\n",
              "mean       0.917504  499791.634971\n",
              "std        0.836537  288678.408660\n",
              "min       -1.000000       6.000000\n",
              "25%        1.000000  249928.000000\n",
              "50%        1.000000  499577.000000\n",
              "75%        1.000000  748695.000000\n",
              "max        2.000000  999983.000000"
            ]
          },
          "metadata": {},
          "execution_count": 49
        }
      ]
    },
    {
      "cell_type": "code",
      "metadata": {
        "id": "xwDU3plPDmJJ",
        "colab": {
          "base_uri": "https://localhost:8080/"
        },
        "outputId": "e0ddd97e-dd51-4d86-f49b-c5627a0402ea"
      },
      "source": [
        "#Evaluating the kurtosis to chech for outliers\n",
        "df.kurtosis()"
      ],
      "execution_count": 50,
      "outputs": [
        {
          "output_type": "execute_result",
          "data": {
            "text/plain": [
              "sentiment    0.122976\n",
              "tweetid     -1.193841\n",
              "dtype: float64"
            ]
          },
          "metadata": {},
          "execution_count": 50
        }
      ]
    },
    {
      "cell_type": "code",
      "metadata": {
        "id": "TL-3jrwZERCK",
        "colab": {
          "base_uri": "https://localhost:8080/",
          "height": 247
        },
        "outputId": "50e78aa3-2f0c-4d9b-a346-d3e6e303aafa"
      },
      "source": [
        "fig, axes = plt.subplots(1, 2, figsize=(10, 3))\n",
        " \n",
        "sns.boxplot(ax=axes[0], data=df_new, x='tweetid')\n",
        "sns.boxplot(ax=axes[1], data=df_new, x='sentiment')"
      ],
      "execution_count": 51,
      "outputs": [
        {
          "output_type": "execute_result",
          "data": {
            "text/plain": [
              "<matplotlib.axes._subplots.AxesSubplot at 0x7f27ba1f6fd0>"
            ]
          },
          "metadata": {},
          "execution_count": 51
        },
        {
          "output_type": "display_data",
          "data": {
            "image/png": "[encoded data removed]",
            "text/plain": [
              "<Figure size 720x216 with 2 Axes>"
            ]
          },
          "metadata": {}
        }
      ]
    },
    {
      "cell_type": "code",
      "metadata": {
        "id": "kfX4jQZAdj5u",
        "colab": {
          "base_uri": "https://localhost:8080/",
          "height": 357
        },
        "outputId": "3fcd955d-076a-44d6-968f-51362cafdd53"
      },
      "source": [
        "sns.countplot(df_train['sentiment'])"
      ],
      "execution_count": 52,
      "outputs": [
        {
          "output_type": "execute_result",
          "data": {
            "text/plain": [
              "<matplotlib.axes._subplots.AxesSubplot at 0x7f27b8c60390>"
            ]
          },
          "metadata": {},
          "execution_count": 52
        },
        {
          "output_type": "display_data",
          "data": {
            "image/png": "[encoded data removed]",
            "text/plain": [
              "<Figure size 576x360 with 1 Axes>"
            ]
          },
          "metadata": {}
        }
      ]
    },
    {
      "cell_type": "markdown",
      "metadata": {
        "id": "scG0brBGFqfg"
      },
      "source": [
        "## Categorical variables"
      ]
    },
    {
      "cell_type": "markdown",
      "metadata": {
        "id": "etCp_mM2veCN"
      },
      "source": [
        "<a id=\"five\"></a>\n",
        "## 5. Data Engineering"
      ]
    },
    {
      "cell_type": "markdown",
      "source": [
        "#### **Tokenisation**\n",
        "\n",
        "A tokeniser divides text into a sequence of tokens, which roughly correspond to \"words\"."
      ],
      "metadata": {
        "id": "u3VzUffAPZSo"
      }
    },
    {
      "cell_type": "code",
      "metadata": {
        "id": "XcHtshjwUQel"
      },
      "source": [
        "    \"\"\"\n",
        "    This function creates a new dataframe df_train['tokenised_message'] by \n",
        "    tokenizing df_train['newmessages'], that is , the tweets in the train data \n",
        "    set.\n",
        "    \n",
        "    \n",
        "    Input:\n",
        "    df_train['newmessages']: original dataframe\n",
        "        datatype: dataframe \n",
        "        \n",
        "    Output:\n",
        "    df_train['tokenised_message']: modified dataframe\n",
        "        datatype: dataframe\n",
        "    \"\"\"\n",
        "\n",
        "tokeniser = TreebankWordTokenizer()\n",
        "df_train['tokenised_message'] = df_train['newmessage'].apply(tokeniser.tokenize)\n",
        "df_train['tokenised_message'].iloc[2]"
      ],
      "execution_count": null,
      "outputs": []
    },
    {
      "cell_type": "markdown",
      "source": [
        "#### **Stemming**\n",
        "\n",
        "Stemming is the process of transforming to the root word. It uses an algorithm that removes common word-endings from English words, such as “ly,” “es,” “ed,” and “s.”"
      ],
      "metadata": {
        "id": "3Ysieg2MP5hN"
      }
    },
    {
      "cell_type": "code",
      "metadata": {
        "id": "dV7FZZQbUQem"
      },
      "source": [
        "stemmer = SnowballStemmer('english')\n",
        "\n",
        "def message_stemmer(words, stemmer):\n",
        "    \"\"\"\n",
        "    This function creates a new dataframe df_train['stemmed_message'] by \n",
        "    stemming words in df_train['tokenised_message'], that is , the tweets in the train data \n",
        "    set.\n",
        "    \n",
        "    \n",
        "    Input:\n",
        "    df_train['tokenised_message']: original dataframe\n",
        "        datatype: dataframe \n",
        "        \n",
        "    Output:\n",
        "    df_train['stemmed_message']: modified dataframe\n",
        "        datatype: dataframe\n",
        "    \"\"\"\n",
        "\n",
        "    return [stemmer.stem(word) for word in words]\n",
        "\n",
        "df_train['stemmed_message'] = df_train['tokenised_message'].apply(message_stemmer, args=(stemmer, ))\n",
        "\n",
        "for i, t in enumerate(df_train.iloc[15]['tokenised_message']):    \n",
        "    print ('{:20s} --> {:10s}'.format(t, df_train.iloc[15]['stemmed_message'][i]))"
      ],
      "execution_count": null,
      "outputs": []
    },
    {
      "cell_type": "markdown",
      "source": [
        "#### **Lemmatization**\n",
        "\n",
        "A very similar operation to stemming is called lemmatization. Lemmatizing is the process of grouping words of similar meaning together. So, your root stem, meaning the word you end up with, is not something you can just look up in a dictionary, but you can look up a lemma."
      ],
      "metadata": {
        "id": "QeZo9H2BQQZD"
      }
    },
    {
      "cell_type": "code",
      "metadata": {
        "id": "8KnKyshRUQen"
      },
      "source": [
        "lemmatizer = WordNetLemmatizer()\n",
        "\n",
        "def message_lemma(words, lemmatizer):\n",
        "    return [lemmatizer.lemmatize(word) for word in words]  \n",
        "\n",
        "df_train['lemma_message'] = df_train['tokenised_message'].apply(message_lemma, args=(lemmatizer, ))  \n",
        "\n",
        "for i, t in enumerate(df_train.iloc[1]['tokenised_message']):    \n",
        "    print ('{:20s} --> {:10s}'.format(t, df_train.iloc[1]['lemma_message'][i]))"
      ],
      "execution_count": null,
      "outputs": []
    },
    {
      "cell_type": "markdown",
      "metadata": {
        "id": "pi_mkP1Uw24J"
      },
      "source": [
        "<a id=\"six\"></a>\n",
        "##  Modelling"
      ]
    },
    {
      "cell_type": "code",
      "metadata": {
        "id": "jAXu7WSTUQen"
      },
      "source": [
        "TFID = TfidfVectorizer(stop_words='english', \n",
        "                             min_df=2, \n",
        "                             max_df=0.90, \n",
        "                             ngram_range=(1, 3))"
      ],
      "execution_count": null,
      "outputs": []
    },
    {
      "cell_type": "code",
      "metadata": {
        "id": "1UYqReIbUQeo"
      },
      "source": [
        "# split data\n",
        "X = df_train['newmessage']\n",
        "y = df_train['sentiment']\n",
        "\n",
        "#df_test\n",
        "X_real = df_test['newmessage']"
      ],
      "execution_count": null,
      "outputs": []
    },
    {
      "cell_type": "code",
      "metadata": {
        "id": "b0egwabuUQeo"
      },
      "source": [
        "X_vec_t = TFID.fit_transform(X)\n",
        "\n",
        "###real\n",
        "X_vec_t_real = TFID.transform(X_real)"
      ],
      "execution_count": null,
      "outputs": []
    },
    {
      "cell_type": "code",
      "metadata": {
        "id": "UfKikN9cUQep"
      },
      "source": [
        "# Split dataset into train and test sets\n",
        "X_train, X_test, y_train, y_test = train_test_split(X_vec_t, y, test_size=0.20, random_state=32, stratify=y)"
      ],
      "execution_count": null,
      "outputs": []
    },
    {
      "cell_type": "markdown",
      "metadata": {
        "id": "s978oZkxw4VJ"
      },
      "source": [
        "### Preparing for modelling"
      ]
    },
    {
      "cell_type": "markdown",
      "metadata": {
        "id": "0AHj77inw_SY"
      },
      "source": [
        "### Base models"
      ]
    },
    {
      "cell_type": "markdown",
      "source": [
        "- A __support vector machine (SVM)__ is a supervised machine learning model that uses classification algorithms for two-group classification problems. SVM algorithm helps to find the best line or decision boundary; this best boundary or region is called as a hyperplane."
      ],
      "metadata": {
        "id": "AqVhrSzG_Q4p"
      }
    },
    {
      "cell_type": "code",
      "metadata": {
        "id": "vPD2FQFjUQep"
      },
      "source": [
        "# Fitting the Linear SVC model into the train dataset\n",
        "lsvc = LinearSVC()\n",
        "lsvc.fit(X_train, y_train)\n"
      ],
      "execution_count": null,
      "outputs": []
    },
    {
      "cell_type": "markdown",
      "metadata": {
        "id": "E9hkjwKf1e7Y"
      },
      "source": [
        "- __Logistic regression__ is a statistical model that in its basic form uses a logistic function to model a binary (two) dependent variable, for example pass/fail, win/lose, healthy/sick and many more. Its models are effective only for cases in which we have clearly linearly separable data, i.e, a straight line can be drawn between the different datapoints that definitively separates them."
      ]
    },
    {
      "cell_type": "code",
      "metadata": {
        "id": "cvf-us-SX9xY"
      },
      "source": [
        "# Fitting the Logistic Regression Classifier model into the train dataset\n",
        "lm_full = LogisticRegression()\n",
        "lm_full.fit(X_train, y_train)\n"
      ],
      "execution_count": null,
      "outputs": []
    },
    {
      "cell_type": "markdown",
      "source": [
        "- "
      ],
      "metadata": {
        "id": "KjlD3i80KB9N"
      }
    },
    {
      "cell_type": "code",
      "metadata": {
        "id": "FpXmtnKCWWtW"
      },
      "source": [
        "#Fitting the Decision Tree model into the train dataset\n",
        "tree = DecisionTreeClassifier(random_state=42)\n",
        "tree.fit(X_train, y_train)"
      ],
      "execution_count": null,
      "outputs": []
    },
    {
      "cell_type": "code",
      "metadata": {
        "id": "AQEgjd31WWgU"
      },
      "source": [
        "# Fitting the K-Nearest Neighbors model into the train dataset \n",
        "knn = KNeighborsClassifier()\n",
        "knn.fit(X_train, y_train)\n"
      ],
      "execution_count": null,
      "outputs": []
    },
    {
      "cell_type": "markdown",
      "metadata": {
        "id": "h5LqbcMixKTu"
      },
      "source": [
        "<a id=\"seven\"></a>\n",
        "## Model Performance"
      ]
    },
    {
      "cell_type": "code",
      "metadata": {
        "id": "AY6f1nyxpAS9"
      },
      "source": [
        "# Use trained different models to run prediction on validation data\n",
        "lsvc_pred= lsvc.predict(X_test)\n",
        "lm_full_pred= lm_full.predict(X_test)\n",
        "tree_pred= tree.predict(X_test)\n",
        "knn_pred= knn.predict(X_test)\n",
        "\n",
        "# Score\n",
        "print(\"Linear SVC Metrics:\")\n",
        "print(metrics.classification_report(y_test, lsvc_pred))\n",
        "\n",
        "print(\"Logistic Regression Classifier Metrics:\")\n",
        "print(metrics.classification_report(y_test, lm_full_pred))\n",
        "\n",
        "print(\"Decision Tree Metrics:\")\n",
        "print(metrics.classification_report(y_test, tree_pred))\n",
        "\n",
        "print(\"K-nearest neighbors Metrics:\")\n",
        "print(metrics.classification_report(y_test, knn_pred))"
      ],
      "execution_count": null,
      "outputs": []
    },
    {
      "cell_type": "code",
      "metadata": {
        "id": "wz4yBE8MHHBV"
      },
      "source": [
        "# Assessing the performance of different models using the confusion matrix \n",
        "\n",
        "print(\"Linear SVC Model:\")\n",
        "print(confusion_matrix(y_test, lsvc_pred))\n",
        "\n",
        "print(\"Logistic Regression Model:\")\n",
        "print(confusion_matrix(y_test, lm_full_pred))\n",
        "\n",
        "print(\"Decision Tree Model:\")\n",
        "print(confusion_matrix(y_test, tree_pred))\n",
        "\n",
        "print(\"K-nearest neighbors Model:\")\n",
        "print(confusion_matrix(y_test, knn_pred))"
      ],
      "execution_count": null,
      "outputs": []
    },
    {
      "cell_type": "markdown",
      "source": [
        "<a id=\"eight\"></a>\n",
        "## 8. Model Explanation\n",
        "\n",
        "From the four different classification models that were considered, the SVC model was found to perform better than the other three models. This conclusion was drawn from the f1-score and the accuracy, that is, it has the highest f1-score of 0.61, 0.47, 0.81 and 0.75, respectively, and accuracy of 0.74."
      ],
      "metadata": {
        "id": "1DlCC_pO6yMl"
      }
    },
    {
      "cell_type": "code",
      "metadata": {
        "id": "pxWsSUMVUQep"
      },
      "source": [
        "lsvc_pred_real= lsvc.predict(X_vec_t_real)"
      ],
      "execution_count": null,
      "outputs": []
    },
    {
      "cell_type": "code",
      "metadata": {
        "id": "-rKgT7APUQep"
      },
      "source": [
        "df_test['sentiment'] = lsvc_pred_real"
      ],
      "execution_count": null,
      "outputs": []
    },
    {
      "cell_type": "code",
      "metadata": {
        "id": "j9PY1M5FUQeq"
      },
      "source": [
        "df_test.head(25)"
      ],
      "execution_count": null,
      "outputs": []
    },
    {
      "cell_type": "code",
      "metadata": {
        "id": "Kl1eVBmMUQeq"
      },
      "source": [
        "df_test[['tweetid','sentiment']].to_csv('submission.csv', index=False)"
      ],
      "execution_count": null,
      "outputs": []
    },
    {
      "cell_type": "markdown",
      "source": [
        ""
      ],
      "metadata": {
        "id": "BA9ldbpnJkso"
      }
    }
  ]
}