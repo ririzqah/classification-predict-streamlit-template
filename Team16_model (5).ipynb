{
  "nbformat": 4,
  "nbformat_minor": 0,
  "metadata": {
    "kernelspec": {
      "display_name": "Python 3",
      "language": "python",
      "name": "python3"
    },
    "language_info": {
      "codemirror_mode": {
        "name": "ipython",
        "version": 3
      },
      "file_extension": ".py",
      "mimetype": "text/x-python",
      "name": "python",
      "nbconvert_exporter": "python",
      "pygments_lexer": "ipython3",
      "version": "3.8.8"
    },
    "colab": {
      "name": "Team16_model (5).ipynb",
      "provenance": [],
      "include_colab_link": true
    }
  },
  "cells": [
    {
      "cell_type": "markdown",
      "metadata": {
        "id": "view-in-github",
        "colab_type": "text"
      },
      "source": [
        "<a href=\"https://colab.research.google.com/github/ririzqah/classification-predict-streamlit-template/blob/master/Team16_model%20(5).ipynb\" target=\"_parent\"><img src=\"https://colab.research.google.com/assets/colab-badge.svg\" alt=\"Open In Colab\"/></a>"
      ]
    },
    {
      "cell_type": "markdown",
      "metadata": {
        "id": "IRpFyKWDsfGP"
      },
      "source": [
        "# **Climate Change Classification Predict**\n",
        "\n",
        "## Team 16\n",
        "- Mashele Neo Ntsako \n",
        "- Meniers Rizqah\n",
        "- Mzobe Zama \n",
        "- Nkadimeng Botseetsa Loveness \n",
        "- Thobejane Tladi Thaane \n"
      ]
    },
    {
      "cell_type": "markdown",
      "metadata": {
        "id": "xYuig1dyuECf"
      },
      "source": [
        "## Table of Contents\n",
        "\n",
        "<a href=#one> Introduction</a>\n",
        "\n",
        "<a href=#two> Problem Statement\n",
        "\n",
        "<a href=#three> Objectives</a>\n",
        "\n",
        "<a href=#one>1. Importing Packages</a>\n",
        "\n",
        "<a href=#two>2. Loading Data</a>\n",
        "\n",
        "<a href=#three>3. Data Preprocessing</a>\n",
        "\n",
        "<a href=#four>4. Exploratory Data Analysis (EDA)</a>\n",
        "\n",
        "<a href=#five>5. Data Engineering</a>\n",
        "\n",
        "<a href=#six>6. Modeling</a>\n",
        "\n",
        "<a href=#seven>7. Model Performance</a>\n",
        "\n",
        "<a href=#eight>8. Model Explanations</a>\n",
        "\n",
        "<a href=#snine> Conclusion</a>"
      ]
    },
    {
      "cell_type": "markdown",
      "metadata": {
        "id": "TY6B0MsdtYzH"
      },
      "source": [
        "## Introduction"
      ]
    },
    {
      "cell_type": "markdown",
      "metadata": {
        "id": "ta-KgNc1taIv"
      },
      "source": [
        "### Predict Overview: Climate Change Challenge\n",
        "\n",
        "Over the course of millions of years, the global climate has experienced fluctuations. These shifts may be natural, but since the beginning of industrialisation, however, the composition of the atmosphere has changed as a result of greenhouse gas emissions. This global warming caused by human activities such as burning of fossil fuels intensifies the natural greenhouse effect and is leading to detectable changes to the climate. This global warming also has a significant effect on people and nature.\n",
        "\n",
        "\n",
        " The average global surface temperature has already increased by 1.04°C in the last 130 years. In particular, according to the scientific reports of the Intergovernmental Panel on Climate Change (IPCC), the sharp increase in global warming since 1950 can no longer be explained by natural climate fluctuations. It is highly likely that greenhouse gases such as carbon dioxide (CO₂) are responsible for this, which enter the atmosphere through the burning of fossil fuels such as coal, crude oil and natural gas and through large-​scale land use, for example, the deforestation of tropical rainforests, and increase the greenhouse effect.\n",
        "\n",
        "\n",
        "## Problem Statement\n",
        "\n",
        "In this project we are tasked to create a machine learning model that will be able to classify whether or not a person believes in climate change, based on their novel tweet data. The provision of an accurate and robust solution to this task gives will give companies access to a broad base of consumer sentiment, spanning multiple demographic and geographic categories - thus increasing their insights and informing future marketing strategies.\n",
        "\n",
        "\n",
        "\n",
        "\n",
        "## Objectives\n",
        "\n",
        "The key objectives of this research project are as follow:\n",
        "\n",
        "- Determine if some categories should be removed or not to better the performance of the model.\n",
        "- Create a machine learning model that is able to classify whether or not a person believes in climate change, based on their novel tweet data.\n",
        "- Evaluate the accuracy of the best machine learning model.\n",
        "\n"
      ]
    },
    {
      "cell_type": "markdown",
      "metadata": {
        "id": "AlCSfEt-sy4n"
      },
      "source": [
        "<a id=\"one\"></a>\n",
        "## 1. Importing packages"
      ]
    },
    {
      "cell_type": "code",
      "metadata": {
        "colab": {
          "base_uri": "https://localhost:8080/"
        },
        "id": "t8cvume7UQed",
        "outputId": "9ff73f44-cc1f-491f-8cda-b6bc6268a53f"
      },
      "source": [
        "# Libraries for data loading, data manipulation and data visulisation\n",
        "import nltk\n",
        "import re\n",
        "import csv\n",
        "import string\n",
        "from PIL import Image\n",
        "from wordcloud import WordCloud\n",
        "import pandas as pd\n",
        "import matplotlib.pyplot as plt\n",
        "import seaborn as sns \n",
        "import numpy as np\n",
        "from sklearn.preprocessing import LabelEncoder\n",
        "import warnings\n",
        "warnings.filterwarnings(\"ignore\")\n",
        "\n",
        "# Downloads\n",
        "#nlp = spacy.load('en')\n",
        "nltk.download('punkt')\n",
        "nltk.download('wordnet')\n",
        "nltk.download('stopwords')\n",
        "nltk.download('averaged_perceptron_tagger')\n",
        "\n",
        "# Libraries for data preparation and model building\n",
        "from collections import Counter\n",
        "from nltk.probability import FreqDist\n",
        "from nltk.tokenize import word_tokenize, TreebankWordTokenizer\n",
        "from nltk import SnowballStemmer, PorterStemmer, LancasterStemmer\n",
        "from nltk.stem import WordNetLemmatizer \n",
        "from nltk.corpus import stopwords, wordnet  \n",
        "from sklearn.feature_extraction.text import CountVectorizer   \n",
        "from sklearn.feature_extraction.text import TfidfVectorizer\n",
        "from sklearn.feature_extraction.text import TfidfTransformer\n",
        "from sklearn.feature_selection import VarianceThreshold\n",
        "from sklearn import feature_selection\n",
        "from sklearn.feature_selection import f_classif\n",
        "\n",
        "from sklearn.preprocessing import StandardScaler\n",
        "from sklearn.model_selection import train_test_split, GridSearchCV\n",
        "from sklearn.linear_model import LinearRegression\n",
        "from sklearn.svm import LinearSVC, SVC\n",
        "from sklearn.pipeline import Pipeline\n",
        "from sklearn.naive_bayes import MultinomialNB, GaussianNB\n",
        "from sklearn.linear_model import LogisticRegression\n",
        "from sklearn.tree import DecisionTreeClassifier\n",
        "from sklearn.ensemble import RandomForestClassifier\n",
        "from sklearn.neighbors import KNeighborsClassifier\n",
        "from sklearn.utils import resample\n",
        "\n",
        "from sklearn.metrics import mean_squared_error\n",
        "from sklearn.metrics import confusion_matrix, f1_score, precision_score, recall_score\n",
        "from sklearn.metrics import classification_report, accuracy_score\n",
        "from sklearn import metrics\n",
        "\n",
        "# Setting global constants to ensure notebook results are reproducible\n",
        "pd.set_option('display.max_rows', None)\n",
        "pd.set_option('display.max_columns', None)\n",
        "sns.set(rc={'figure.figsize':(8,5)})"
      ],
      "execution_count": 17,
      "outputs": [
        {
          "output_type": "stream",
          "name": "stdout",
          "text": [
            "[nltk_data] Downloading package punkt to /root/nltk_data...\n",
            "[nltk_data]   Package punkt is already up-to-date!\n",
            "[nltk_data] Downloading package wordnet to /root/nltk_data...\n",
            "[nltk_data]   Package wordnet is already up-to-date!\n",
            "[nltk_data] Downloading package stopwords to /root/nltk_data...\n",
            "[nltk_data]   Package stopwords is already up-to-date!\n",
            "[nltk_data] Downloading package averaged_perceptron_tagger to\n",
            "[nltk_data]     /root/nltk_data...\n",
            "[nltk_data]   Package averaged_perceptron_tagger is already up-to-\n",
            "[nltk_data]       date!\n"
          ]
        }
      ]
    },
    {
      "cell_type": "markdown",
      "metadata": {
        "id": "peJsNXuUufaZ"
      },
      "source": [
        "<a id=\"two\"></a>\n",
        "## 2. Loading the Data"
      ]
    },
    {
      "cell_type": "code",
      "metadata": {
        "id": "AKexTVVtUQeh"
      },
      "source": [
        "df_train = pd.read_csv('https://raw.githubusercontent.com/ririzqah/classification-predict-streamlit-template/master/train.csv')\n",
        "df_test = pd.read_csv('https://raw.githubusercontent.com/ririzqah/classification-predict-streamlit-template/master/test_with_no_labels.csv')"
      ],
      "execution_count": 18,
      "outputs": []
    },
    {
      "cell_type": "markdown",
      "source": [
        "## THE TWEETS ARE CATEGORICAL INTO FOUR CATEGORIES\n",
        "\n",
        "\n",
        "[ 2 ] News : Tweets linked to factual news about climate change.\n",
        "\n",
        "[ 1 ] Pro : Tweets that support the belief of man-made climate change.\n",
        "\n",
        "[ 0 ] Neutral : Tweets that neither support nor refuse beliefs of climate change.\n",
        "\n",
        "[-1 ] Anti : Tweets that do not support the belief of man-made climate change."
      ],
      "metadata": {
        "id": "lsBcd3loDGW_"
      }
    },
    {
      "cell_type": "markdown",
      "metadata": {
        "id": "itG3AElwuzye"
      },
      "source": [
        "<a id=\"three\"></a>\n",
        "## 3. Data Preprocessing\n",
        "\n",
        "Data preprocessing is the process of transforming raw data into an understandable format. It is also an important step in data mining as we cannot work with raw data. The quality of the data should be checked before applying machine learning or data mining algorithms.\n",
        "\n",
        "In this section we will manipulate or drop unnecessary data from the data set before it is used in order to ensure or enhance performance."
      ]
    },
    {
      "cell_type": "code",
      "metadata": {
        "colab": {
          "base_uri": "https://localhost:8080/",
          "height": 206
        },
        "id": "naeK4FvZxizp",
        "outputId": "01773a3d-cdcc-41d8-87df-e45b3a093f92"
      },
      "source": [
        "#view train dataset\n",
        "df_train.head()"
      ],
      "execution_count": 19,
      "outputs": [
        {
          "output_type": "execute_result",
          "data": {
            "text/html": [
              "<div>\n",
              "<style scoped>\n",
              "    .dataframe tbody tr th:only-of-type {\n",
              "        vertical-align: middle;\n",
              "    }\n",
              "\n",
              "    .dataframe tbody tr th {\n",
              "        vertical-align: top;\n",
              "    }\n",
              "\n",
              "    .dataframe thead th {\n",
              "        text-align: right;\n",
              "    }\n",
              "</style>\n",
              "<table border=\"1\" class=\"dataframe\">\n",
              "  <thead>\n",
              "    <tr style=\"text-align: right;\">\n",
              "      <th></th>\n",
              "      <th>sentiment</th>\n",
              "      <th>message</th>\n",
              "      <th>tweetid</th>\n",
              "    </tr>\n",
              "  </thead>\n",
              "  <tbody>\n",
              "    <tr>\n",
              "      <th>0</th>\n",
              "      <td>1</td>\n",
              "      <td>PolySciMajor EPA chief doesn't think carbon di...</td>\n",
              "      <td>625221</td>\n",
              "    </tr>\n",
              "    <tr>\n",
              "      <th>1</th>\n",
              "      <td>1</td>\n",
              "      <td>It's not like we lack evidence of anthropogeni...</td>\n",
              "      <td>126103</td>\n",
              "    </tr>\n",
              "    <tr>\n",
              "      <th>2</th>\n",
              "      <td>2</td>\n",
              "      <td>RT @RawStory: Researchers say we have three ye...</td>\n",
              "      <td>698562</td>\n",
              "    </tr>\n",
              "    <tr>\n",
              "      <th>3</th>\n",
              "      <td>1</td>\n",
              "      <td>#TodayinMaker# WIRED : 2016 was a pivotal year...</td>\n",
              "      <td>573736</td>\n",
              "    </tr>\n",
              "    <tr>\n",
              "      <th>4</th>\n",
              "      <td>1</td>\n",
              "      <td>RT @SoyNovioDeTodas: It's 2016, and a racist, ...</td>\n",
              "      <td>466954</td>\n",
              "    </tr>\n",
              "  </tbody>\n",
              "</table>\n",
              "</div>"
            ],
            "text/plain": [
              "   sentiment                                            message  tweetid\n",
              "0          1  PolySciMajor EPA chief doesn't think carbon di...   625221\n",
              "1          1  It's not like we lack evidence of anthropogeni...   126103\n",
              "2          2  RT @RawStory: Researchers say we have three ye...   698562\n",
              "3          1  #TodayinMaker# WIRED : 2016 was a pivotal year...   573736\n",
              "4          1  RT @SoyNovioDeTodas: It's 2016, and a racist, ...   466954"
            ]
          },
          "metadata": {},
          "execution_count": 19
        }
      ]
    },
    {
      "cell_type": "code",
      "metadata": {
        "colab": {
          "base_uri": "https://localhost:8080/",
          "height": 206
        },
        "id": "cBKuTxsqyRvD",
        "outputId": "4692a085-70d0-4d2f-f21b-aa12aa410960"
      },
      "source": [
        "#view train dataset\n",
        "df_test.head()"
      ],
      "execution_count": 20,
      "outputs": [
        {
          "output_type": "execute_result",
          "data": {
            "text/html": [
              "<div>\n",
              "<style scoped>\n",
              "    .dataframe tbody tr th:only-of-type {\n",
              "        vertical-align: middle;\n",
              "    }\n",
              "\n",
              "    .dataframe tbody tr th {\n",
              "        vertical-align: top;\n",
              "    }\n",
              "\n",
              "    .dataframe thead th {\n",
              "        text-align: right;\n",
              "    }\n",
              "</style>\n",
              "<table border=\"1\" class=\"dataframe\">\n",
              "  <thead>\n",
              "    <tr style=\"text-align: right;\">\n",
              "      <th></th>\n",
              "      <th>message</th>\n",
              "      <th>tweetid</th>\n",
              "    </tr>\n",
              "  </thead>\n",
              "  <tbody>\n",
              "    <tr>\n",
              "      <th>0</th>\n",
              "      <td>Europe will now be looking to China to make su...</td>\n",
              "      <td>169760</td>\n",
              "    </tr>\n",
              "    <tr>\n",
              "      <th>1</th>\n",
              "      <td>Combine this with the polling of staffers re c...</td>\n",
              "      <td>35326</td>\n",
              "    </tr>\n",
              "    <tr>\n",
              "      <th>2</th>\n",
              "      <td>The scary, unimpeachable evidence that climate...</td>\n",
              "      <td>224985</td>\n",
              "    </tr>\n",
              "    <tr>\n",
              "      <th>3</th>\n",
              "      <td>@Karoli @morgfair @OsborneInk @dailykos \\nPuti...</td>\n",
              "      <td>476263</td>\n",
              "    </tr>\n",
              "    <tr>\n",
              "      <th>4</th>\n",
              "      <td>RT @FakeWillMoore: 'Female orgasms cause globa...</td>\n",
              "      <td>872928</td>\n",
              "    </tr>\n",
              "  </tbody>\n",
              "</table>\n",
              "</div>"
            ],
            "text/plain": [
              "                                             message  tweetid\n",
              "0  Europe will now be looking to China to make su...   169760\n",
              "1  Combine this with the polling of staffers re c...    35326\n",
              "2  The scary, unimpeachable evidence that climate...   224985\n",
              "3  @Karoli @morgfair @OsborneInk @dailykos \\nPuti...   476263\n",
              "4  RT @FakeWillMoore: 'Female orgasms cause globa...   872928"
            ]
          },
          "metadata": {},
          "execution_count": 20
        }
      ]
    },
    {
      "cell_type": "code",
      "metadata": {
        "colab": {
          "base_uri": "https://localhost:8080/",
          "height": 206
        },
        "id": "WTd6Xv_ayj-E",
        "outputId": "7a04bede-b3a2-43e5-ea2e-d13718d50b8a"
      },
      "source": [
        "#combine train and test datasets\n",
        "df=pd.concat([df_train,df_test])\n",
        "df.head()"
      ],
      "execution_count": 21,
      "outputs": [
        {
          "output_type": "execute_result",
          "data": {
            "text/html": [
              "<div>\n",
              "<style scoped>\n",
              "    .dataframe tbody tr th:only-of-type {\n",
              "        vertical-align: middle;\n",
              "    }\n",
              "\n",
              "    .dataframe tbody tr th {\n",
              "        vertical-align: top;\n",
              "    }\n",
              "\n",
              "    .dataframe thead th {\n",
              "        text-align: right;\n",
              "    }\n",
              "</style>\n",
              "<table border=\"1\" class=\"dataframe\">\n",
              "  <thead>\n",
              "    <tr style=\"text-align: right;\">\n",
              "      <th></th>\n",
              "      <th>sentiment</th>\n",
              "      <th>message</th>\n",
              "      <th>tweetid</th>\n",
              "    </tr>\n",
              "  </thead>\n",
              "  <tbody>\n",
              "    <tr>\n",
              "      <th>0</th>\n",
              "      <td>1.0</td>\n",
              "      <td>PolySciMajor EPA chief doesn't think carbon di...</td>\n",
              "      <td>625221</td>\n",
              "    </tr>\n",
              "    <tr>\n",
              "      <th>1</th>\n",
              "      <td>1.0</td>\n",
              "      <td>It's not like we lack evidence of anthropogeni...</td>\n",
              "      <td>126103</td>\n",
              "    </tr>\n",
              "    <tr>\n",
              "      <th>2</th>\n",
              "      <td>2.0</td>\n",
              "      <td>RT @RawStory: Researchers say we have three ye...</td>\n",
              "      <td>698562</td>\n",
              "    </tr>\n",
              "    <tr>\n",
              "      <th>3</th>\n",
              "      <td>1.0</td>\n",
              "      <td>#TodayinMaker# WIRED : 2016 was a pivotal year...</td>\n",
              "      <td>573736</td>\n",
              "    </tr>\n",
              "    <tr>\n",
              "      <th>4</th>\n",
              "      <td>1.0</td>\n",
              "      <td>RT @SoyNovioDeTodas: It's 2016, and a racist, ...</td>\n",
              "      <td>466954</td>\n",
              "    </tr>\n",
              "  </tbody>\n",
              "</table>\n",
              "</div>"
            ],
            "text/plain": [
              "   sentiment                                            message  tweetid\n",
              "0        1.0  PolySciMajor EPA chief doesn't think carbon di...   625221\n",
              "1        1.0  It's not like we lack evidence of anthropogeni...   126103\n",
              "2        2.0  RT @RawStory: Researchers say we have three ye...   698562\n",
              "3        1.0  #TodayinMaker# WIRED : 2016 was a pivotal year...   573736\n",
              "4        1.0  RT @SoyNovioDeTodas: It's 2016, and a racist, ...   466954"
            ]
          },
          "metadata": {},
          "execution_count": 21
        }
      ]
    },
    {
      "cell_type": "markdown",
      "metadata": {
        "id": "ryrTKWg0u-pn"
      },
      "source": [
        "## Data size and Structure"
      ]
    },
    {
      "cell_type": "code",
      "metadata": {
        "colab": {
          "base_uri": "https://localhost:8080/"
        },
        "id": "y6X7a8-TzGSI",
        "outputId": "eff1229e-21f4-4aa4-a6da-df30f49e175b"
      },
      "source": [
        "#looking at the information of the dataset\n",
        "df.info()"
      ],
      "execution_count": 22,
      "outputs": [
        {
          "output_type": "stream",
          "name": "stdout",
          "text": [
            "<class 'pandas.core.frame.DataFrame'>\n",
            "Int64Index: 26365 entries, 0 to 10545\n",
            "Data columns (total 3 columns):\n",
            " #   Column     Non-Null Count  Dtype  \n",
            "---  ------     --------------  -----  \n",
            " 0   sentiment  15819 non-null  float64\n",
            " 1   message    26365 non-null  object \n",
            " 2   tweetid    26365 non-null  int64  \n",
            "dtypes: float64(1), int64(1), object(1)\n",
            "memory usage: 823.9+ KB\n"
          ]
        }
      ]
    },
    {
      "cell_type": "code",
      "metadata": {
        "colab": {
          "base_uri": "https://localhost:8080/"
        },
        "id": "gUFb1VTf0MS1",
        "outputId": "922c426b-cd1a-4681-dd77-43dd264eeda4"
      },
      "source": [
        "# Finding unique values in sentiment\n",
        "df_train['sentiment'].unique()"
      ],
      "execution_count": 23,
      "outputs": [
        {
          "output_type": "execute_result",
          "data": {
            "text/plain": [
              "array([ 1,  2,  0, -1])"
            ]
          },
          "metadata": {},
          "execution_count": 23
        }
      ]
    },
    {
      "cell_type": "code",
      "metadata": {
        "colab": {
          "base_uri": "https://localhost:8080/"
        },
        "id": "R8CrhxdDzV9W",
        "outputId": "cbfb500a-e8a9-4e56-9c0c-ed360bf8770d"
      },
      "source": [
        "#looking at the shape of the dataset\n",
        "df.shape"
      ],
      "execution_count": 24,
      "outputs": [
        {
          "output_type": "execute_result",
          "data": {
            "text/plain": [
              "(26365, 3)"
            ]
          },
          "metadata": {},
          "execution_count": 24
        }
      ]
    },
    {
      "cell_type": "markdown",
      "metadata": {
        "id": "GkBhON3dvIW-"
      },
      "source": [
        "## Handling missing values"
      ]
    },
    {
      "cell_type": "code",
      "metadata": {
        "id": "6W4Hdvbvzddj"
      },
      "source": [
        "# Make a copy of the df so that if we make mistakes we can always refer to the original df\n",
        "df_new = df.copy()"
      ],
      "execution_count": 25,
      "outputs": []
    },
    {
      "cell_type": "markdown",
      "metadata": {
        "id": "GnOa20av4Mmm"
      },
      "source": [
        "## Removing noise from the dataset"
      ]
    },
    {
      "cell_type": "code",
      "metadata": {
        "colab": {
          "base_uri": "https://localhost:8080/",
          "height": 223
        },
        "id": "ex6v_Vwn4JkZ",
        "outputId": "8c3df022-010c-4c65-cd0b-11e94a65b1ab"
      },
      "source": [
        "#removing noise such as web-urls, numbers and many more from the data set\n",
        "\n",
        "pattern_url = r'http[s]?://(?:[A-Za-z]|[0-9]|[$-_@.&+]|[!*\\(\\),]|(?:%[0-9A-Fa-f][0-9A-Fa-f]))+'\n",
        "subs_url = r'url-web'\n",
        "df_train['message'] = df_train['message'].replace(to_replace = pattern_url, value = subs_url, regex = True)\n",
        "df_test['message'] = df_test['message'].replace(to_replace = pattern_url, value = subs_url, regex = True)\n",
        "#string of punctuations\n",
        "print(string.punctuation)\n",
        "\n",
        "#function to remove punctuation\n",
        "def remove_punctuation(post):\n",
        "\n",
        "    \"\"\"\n",
        "    This function removes punctuation from tweets, removes words with less than \n",
        "    three letters and converts everything to lowercase letters.\n",
        "\n",
        "    Input:\n",
        "    tweet: original tweet\n",
        "           datatype: 'str'\n",
        "\n",
        "    Output:\n",
        "    tweet: modified tweet\n",
        "           datatype: 'str'\n",
        "    \"\"\"\n",
        "\n",
        "    return ''.join([l for l in post if l not in string.punctuation])\n",
        "\n",
        "df_train['message'] = df_train['message'].apply(remove_punctuation)\n",
        "df_test['message'] = df_test['message'].apply(remove_punctuation)\n",
        "\n",
        "# Remove all words below 3 characters\n",
        "df_train['newmessage'] = df_train['message'].apply(lambda x: ' '.join([w for w in x.split() if len(w)>3]))\n",
        "df_test['newmessage'] = df_test['message'].apply(lambda x: ' '.join([w for w in x.split() if len(w)>3]))\n",
        "\n",
        "# Changing from uppercase to lowercase\n",
        "df_train['newmessage'] = df_train['newmessage'].str.lower()\n",
        "df_test['newmessage'] = df_test['newmessage'].str.lower()\n",
        "\n",
        "df_train.head()"
      ],
      "execution_count": 26,
      "outputs": [
        {
          "output_type": "stream",
          "name": "stdout",
          "text": [
            "!\"#$%&'()*+,-./:;<=>?@[\\]^_`{|}~\n"
          ]
        },
        {
          "output_type": "execute_result",
          "data": {
            "text/html": [
              "<div>\n",
              "<style scoped>\n",
              "    .dataframe tbody tr th:only-of-type {\n",
              "        vertical-align: middle;\n",
              "    }\n",
              "\n",
              "    .dataframe tbody tr th {\n",
              "        vertical-align: top;\n",
              "    }\n",
              "\n",
              "    .dataframe thead th {\n",
              "        text-align: right;\n",
              "    }\n",
              "</style>\n",
              "<table border=\"1\" class=\"dataframe\">\n",
              "  <thead>\n",
              "    <tr style=\"text-align: right;\">\n",
              "      <th></th>\n",
              "      <th>sentiment</th>\n",
              "      <th>message</th>\n",
              "      <th>tweetid</th>\n",
              "      <th>newmessage</th>\n",
              "    </tr>\n",
              "  </thead>\n",
              "  <tbody>\n",
              "    <tr>\n",
              "      <th>0</th>\n",
              "      <td>1</td>\n",
              "      <td>PolySciMajor EPA chief doesnt think carbon dio...</td>\n",
              "      <td>625221</td>\n",
              "      <td>polyscimajor chief doesnt think carbon dioxide...</td>\n",
              "    </tr>\n",
              "    <tr>\n",
              "      <th>1</th>\n",
              "      <td>1</td>\n",
              "      <td>Its not like we lack evidence of anthropogenic...</td>\n",
              "      <td>126103</td>\n",
              "      <td>like lack evidence anthropogenic global warming</td>\n",
              "    </tr>\n",
              "    <tr>\n",
              "      <th>2</th>\n",
              "      <td>2</td>\n",
              "      <td>RT RawStory Researchers say we have three year...</td>\n",
              "      <td>698562</td>\n",
              "      <td>rawstory researchers have three years climate ...</td>\n",
              "    </tr>\n",
              "    <tr>\n",
              "      <th>3</th>\n",
              "      <td>1</td>\n",
              "      <td>TodayinMaker WIRED  2016 was a pivotal year in...</td>\n",
              "      <td>573736</td>\n",
              "      <td>todayinmaker wired 2016 pivotal year climate c...</td>\n",
              "    </tr>\n",
              "    <tr>\n",
              "      <th>4</th>\n",
              "      <td>1</td>\n",
              "      <td>RT SoyNovioDeTodas Its 2016 and a racist sexis...</td>\n",
              "      <td>466954</td>\n",
              "      <td>soynoviodetodas 2016 racist sexist climate cha...</td>\n",
              "    </tr>\n",
              "  </tbody>\n",
              "</table>\n",
              "</div>"
            ],
            "text/plain": [
              "   sentiment                                            message  tweetid  \\\n",
              "0          1  PolySciMajor EPA chief doesnt think carbon dio...   625221   \n",
              "1          1  Its not like we lack evidence of anthropogenic...   126103   \n",
              "2          2  RT RawStory Researchers say we have three year...   698562   \n",
              "3          1  TodayinMaker WIRED  2016 was a pivotal year in...   573736   \n",
              "4          1  RT SoyNovioDeTodas Its 2016 and a racist sexis...   466954   \n",
              "\n",
              "                                          newmessage  \n",
              "0  polyscimajor chief doesnt think carbon dioxide...  \n",
              "1    like lack evidence anthropogenic global warming  \n",
              "2  rawstory researchers have three years climate ...  \n",
              "3  todayinmaker wired 2016 pivotal year climate c...  \n",
              "4  soynoviodetodas 2016 racist sexist climate cha...  "
            ]
          },
          "metadata": {},
          "execution_count": 26
        }
      ]
    },
    {
      "cell_type": "markdown",
      "metadata": {
        "id": "YJ8kTpG1vSfc"
      },
      "source": [
        "<a id=\"four\"></a>\n",
        "## 4. Exploratory Data Analysis (EDA)"
      ]
    },
    {
      "cell_type": "markdown",
      "metadata": {
        "id": "JRjbf7icDFWd"
      },
      "source": [
        "### Univariate Analysis"
      ]
    },
    {
      "cell_type": "code",
      "metadata": {
        "id": "SDA2TZgJChNK",
        "colab": {
          "base_uri": "https://localhost:8080/",
          "height": 300
        },
        "outputId": "8090a87d-c2ba-4242-e72d-6840d65ff58e"
      },
      "source": [
        "# look at data statistics\n",
        "df.describe()"
      ],
      "execution_count": 27,
      "outputs": [
        {
          "output_type": "execute_result",
          "data": {
            "text/html": [
              "<div>\n",
              "<style scoped>\n",
              "    .dataframe tbody tr th:only-of-type {\n",
              "        vertical-align: middle;\n",
              "    }\n",
              "\n",
              "    .dataframe tbody tr th {\n",
              "        vertical-align: top;\n",
              "    }\n",
              "\n",
              "    .dataframe thead th {\n",
              "        text-align: right;\n",
              "    }\n",
              "</style>\n",
              "<table border=\"1\" class=\"dataframe\">\n",
              "  <thead>\n",
              "    <tr style=\"text-align: right;\">\n",
              "      <th></th>\n",
              "      <th>sentiment</th>\n",
              "      <th>tweetid</th>\n",
              "    </tr>\n",
              "  </thead>\n",
              "  <tbody>\n",
              "    <tr>\n",
              "      <th>count</th>\n",
              "      <td>15819.000000</td>\n",
              "      <td>26365.000000</td>\n",
              "    </tr>\n",
              "    <tr>\n",
              "      <th>mean</th>\n",
              "      <td>0.917504</td>\n",
              "      <td>499791.634971</td>\n",
              "    </tr>\n",
              "    <tr>\n",
              "      <th>std</th>\n",
              "      <td>0.836537</td>\n",
              "      <td>288678.408660</td>\n",
              "    </tr>\n",
              "    <tr>\n",
              "      <th>min</th>\n",
              "      <td>-1.000000</td>\n",
              "      <td>6.000000</td>\n",
              "    </tr>\n",
              "    <tr>\n",
              "      <th>25%</th>\n",
              "      <td>1.000000</td>\n",
              "      <td>249928.000000</td>\n",
              "    </tr>\n",
              "    <tr>\n",
              "      <th>50%</th>\n",
              "      <td>1.000000</td>\n",
              "      <td>499577.000000</td>\n",
              "    </tr>\n",
              "    <tr>\n",
              "      <th>75%</th>\n",
              "      <td>1.000000</td>\n",
              "      <td>748695.000000</td>\n",
              "    </tr>\n",
              "    <tr>\n",
              "      <th>max</th>\n",
              "      <td>2.000000</td>\n",
              "      <td>999983.000000</td>\n",
              "    </tr>\n",
              "  </tbody>\n",
              "</table>\n",
              "</div>"
            ],
            "text/plain": [
              "          sentiment        tweetid\n",
              "count  15819.000000   26365.000000\n",
              "mean       0.917504  499791.634971\n",
              "std        0.836537  288678.408660\n",
              "min       -1.000000       6.000000\n",
              "25%        1.000000  249928.000000\n",
              "50%        1.000000  499577.000000\n",
              "75%        1.000000  748695.000000\n",
              "max        2.000000  999983.000000"
            ]
          },
          "metadata": {},
          "execution_count": 27
        }
      ]
    },
    {
      "cell_type": "code",
      "metadata": {
        "id": "xwDU3plPDmJJ",
        "colab": {
          "base_uri": "https://localhost:8080/"
        },
        "outputId": "da042cd9-442d-4bb7-bb36-c40c340bbe7b"
      },
      "source": [
        "#Evaluating the kurtosis\n",
        "df.kurtosis()"
      ],
      "execution_count": 28,
      "outputs": [
        {
          "output_type": "execute_result",
          "data": {
            "text/plain": [
              "sentiment    0.122976\n",
              "tweetid     -1.193841\n",
              "dtype: float64"
            ]
          },
          "metadata": {},
          "execution_count": 28
        }
      ]
    },
    {
      "cell_type": "code",
      "metadata": {
        "id": "TL-3jrwZERCK",
        "colab": {
          "base_uri": "https://localhost:8080/",
          "height": 247
        },
        "outputId": "522b6320-2356-42bf-9735-a59b98c00843"
      },
      "source": [
        "fig, axes = plt.subplots(1, 2, figsize=(10, 3))\n",
        " \n",
        "sns.boxplot(ax=axes[0], data=df_new, x='tweetid')\n",
        "sns.boxplot(ax=axes[1], data=df_new, x='sentiment')"
      ],
      "execution_count": 29,
      "outputs": [
        {
          "output_type": "execute_result",
          "data": {
            "text/plain": [
              "<matplotlib.axes._subplots.AxesSubplot at 0x7f9566913a10>"
            ]
          },
          "metadata": {},
          "execution_count": 29
        },
        {
          "output_type": "display_data",
          "data": {
            "image/png": "[encoded data removed]",
            "text/plain": [
              "<Figure size 720x216 with 2 Axes>"
            ]
          },
          "metadata": {}
        }
      ]
    },
    {
      "cell_type": "code",
      "metadata": {
        "id": "kfX4jQZAdj5u",
        "colab": {
          "base_uri": "https://localhost:8080/",
          "height": 357
        },
        "outputId": "77ea69f1-4f48-4089-d068-998b19c1d550"
      },
      "source": [
        "sns.countplot(df_train['sentiment'])"
      ],
      "execution_count": 30,
      "outputs": [
        {
          "output_type": "execute_result",
          "data": {
            "text/plain": [
              "<matplotlib.axes._subplots.AxesSubplot at 0x7f95678c5050>"
            ]
          },
          "metadata": {},
          "execution_count": 30
        },
        {
          "output_type": "display_data",
          "data": {
            "image/png": "[encoded data removed]",
            "text/plain": [
              "<Figure size 576x360 with 1 Axes>"
            ]
          },
          "metadata": {}
        }
      ]
    },
    {
      "cell_type": "markdown",
      "metadata": {
        "id": "scG0brBGFqfg"
      },
      "source": [
        "## Categorical variables"
      ]
    },
    {
      "cell_type": "markdown",
      "metadata": {
        "id": "etCp_mM2veCN"
      },
      "source": [
        "<a id=\"five\"></a>\n",
        "## 5. Data Engineering"
      ]
    },
    {
      "cell_type": "markdown",
      "source": [
        "#### **Tokenisation**\n",
        "\n",
        "A tokeniser divides text into a sequence of tokens, which roughly correspond to \"words\"."
      ],
      "metadata": {
        "id": "u3VzUffAPZSo"
      }
    },
    {
      "cell_type": "code",
      "metadata": {
        "colab": {
          "base_uri": "https://localhost:8080/"
        },
        "id": "XcHtshjwUQel",
        "outputId": "2eac5d3f-657d-41ca-9fa4-15cc779ce804"
      },
      "source": [
        "    \"\"\"\n",
        "    This function creates a new dataframe df_train['tokenised_message'] by \n",
        "    tokenizing df_train['newmessages'], that is , the tweets in the train data \n",
        "    set.\n",
        "    \n",
        "    \n",
        "    Input:\n",
        "    df_train['newmessages']: original dataframe\n",
        "        datatype: dataframe \n",
        "        \n",
        "    Output:\n",
        "    df_train['tokenised_message']: modified dataframe\n",
        "        datatype: dataframe\n",
        "    \"\"\"\n",
        "\n",
        "tokeniser = TreebankWordTokenizer()\n",
        "df_train['tokenised_message'] = df_train['newmessage'].apply(tokeniser.tokenize)\n",
        "df_train['tokenised_message'].iloc[2]"
      ],
      "execution_count": 31,
      "outputs": [
        {
          "output_type": "execute_result",
          "data": {
            "text/plain": [
              "['rawstory',\n",
              " 'researchers',\n",
              " 'have',\n",
              " 'three',\n",
              " 'years',\n",
              " 'climate',\n",
              " 'change',\n",
              " 'before',\n",
              " 'it',\n",
              " '’',\n",
              " 's',\n",
              " 'late',\n",
              " 'urlweb',\n",
              " 'urlweb…']"
            ]
          },
          "metadata": {},
          "execution_count": 31
        }
      ]
    },
    {
      "cell_type": "markdown",
      "source": [
        "#### **Stemming**\n",
        "\n",
        "Stemming is the process of transforming to the root word. It uses an algorithm that removes common word-endings from English words, such as “ly,” “es,” “ed,” and “s.”"
      ],
      "metadata": {
        "id": "3Ysieg2MP5hN"
      }
    },
    {
      "cell_type": "code",
      "metadata": {
        "colab": {
          "base_uri": "https://localhost:8080/"
        },
        "id": "dV7FZZQbUQem",
        "outputId": "2521a628-b409-413e-dd5d-4be57269fa8f"
      },
      "source": [
        "stemmer = SnowballStemmer('english')\n",
        "\n",
        "def message_stemmer(words, stemmer):\n",
        "    \"\"\"\n",
        "    This function creates a new dataframe df_train['stemmed_message'] by \n",
        "    stemming words in df_train['tokenised_message'], that is , the tweets in the train data \n",
        "    set.\n",
        "    \n",
        "    \n",
        "    Input:\n",
        "    df_train['tokenised_message']: original dataframe\n",
        "        datatype: dataframe \n",
        "        \n",
        "    Output:\n",
        "    df_train['stemmed_message']: modified dataframe\n",
        "        datatype: dataframe\n",
        "    \"\"\"\n",
        "\n",
        "    return [stemmer.stem(word) for word in words]\n",
        "\n",
        "df_train['stemmed_message'] = df_train['tokenised_message'].apply(message_stemmer, args=(stemmer, ))\n",
        "\n",
        "for i, t in enumerate(df_train.iloc[15]['tokenised_message']):    \n",
        "    print ('{:20s} --> {:10s}'.format(t, df_train.iloc[15]['stemmed_message'][i]))"
      ],
      "execution_count": 32,
      "outputs": [
        {
          "output_type": "stream",
          "name": "stdout",
          "text": [
            "glblctzn             --> glblctzn  \n",
            "dont                 --> dont      \n",
            "wan                  --> wan       \n",
            "na                   --> na        \n",
            "live                 --> live      \n",
            "forever              --> forev     \n",
            "nothing              --> noth      \n",
            "will                 --> will      \n",
            "because              --> becaus    \n",
            "climate              --> climat    \n",
            "change               --> chang     \n",
            "����️��              --> ����️��   \n",
            "taylorswift13        --> taylorswift13\n",
            "zaynmalik            --> zaynmalik \n",
            "urlweb               --> urlweb    \n"
          ]
        }
      ]
    },
    {
      "cell_type": "markdown",
      "source": [
        "#### **Lemmatization**\n",
        "\n",
        "A very similar operation to stemming is called lemmatization. Lemmatizing is the process of grouping words of similar meaning together. So, your root stem, meaning the word you end up with, is not something you can just look up in a dictionary, but you can look up a lemma."
      ],
      "metadata": {
        "id": "QeZo9H2BQQZD"
      }
    },
    {
      "cell_type": "code",
      "metadata": {
        "colab": {
          "base_uri": "https://localhost:8080/"
        },
        "id": "8KnKyshRUQen",
        "outputId": "1a6a987b-b4eb-424a-e13c-d82fb5988d59"
      },
      "source": [
        "lemmatizer = WordNetLemmatizer()\n",
        "\n",
        "def message_lemma(words, lemmatizer):\n",
        "    return [lemmatizer.lemmatize(word) for word in words]  \n",
        "\n",
        "df_train['lemma_message'] = df_train['tokenised_message'].apply(message_lemma, args=(lemmatizer, ))  \n",
        "\n",
        "for i, t in enumerate(df_train.iloc[1]['tokenised_message']):    \n",
        "    print ('{:20s} --> {:10s}'.format(t, df_train.iloc[1]['lemma_message'][i]))"
      ],
      "execution_count": 33,
      "outputs": [
        {
          "output_type": "stream",
          "name": "stdout",
          "text": [
            "like                 --> like      \n",
            "lack                 --> lack      \n",
            "evidence             --> evidence  \n",
            "anthropogenic        --> anthropogenic\n",
            "global               --> global    \n",
            "warming              --> warming   \n"
          ]
        }
      ]
    },
    {
      "cell_type": "markdown",
      "metadata": {
        "id": "pi_mkP1Uw24J"
      },
      "source": [
        "<a id=\"six\"></a>\n",
        "##  Modelling"
      ]
    },
    {
      "cell_type": "code",
      "metadata": {
        "id": "jAXu7WSTUQen"
      },
      "source": [
        "TFID = TfidfVectorizer(stop_words='english', \n",
        "                             min_df=2, \n",
        "                             max_df=0.90, \n",
        "                             ngram_range=(1, 3))"
      ],
      "execution_count": 34,
      "outputs": []
    },
    {
      "cell_type": "code",
      "metadata": {
        "id": "1UYqReIbUQeo"
      },
      "source": [
        "# split data\n",
        "X = df_train['newmessage']\n",
        "y = df_train['sentiment']\n",
        "\n",
        "#df_test\n",
        "X_real = df_test['newmessage']"
      ],
      "execution_count": 35,
      "outputs": []
    },
    {
      "cell_type": "code",
      "metadata": {
        "id": "b0egwabuUQeo"
      },
      "source": [
        "X_vec_t = TFID.fit_transform(X)\n",
        "\n",
        "###real\n",
        "X_vec_t_real = TFID.transform(X_real)"
      ],
      "execution_count": 36,
      "outputs": []
    },
    {
      "cell_type": "code",
      "metadata": {
        "id": "UfKikN9cUQep"
      },
      "source": [
        "# Split dataset into train and test sets\n",
        "X_train, X_test, y_train, y_test = train_test_split(X_vec_t, y, test_size=0.20, random_state=32, stratify=y)"
      ],
      "execution_count": 37,
      "outputs": []
    },
    {
      "cell_type": "markdown",
      "metadata": {
        "id": "s978oZkxw4VJ"
      },
      "source": [
        "### Preparing for modelling"
      ]
    },
    {
      "cell_type": "markdown",
      "metadata": {
        "id": "0AHj77inw_SY"
      },
      "source": [
        "### Base models"
      ]
    },
    {
      "cell_type": "markdown",
      "source": [
        "- A __support vector machine (SVM)__ is a supervised machine learning model that uses classification algorithms for two-group classification problems. SVM algorithm helps to find the best line or decision boundary; this best boundary or region is called as a hyperplane."
      ],
      "metadata": {
        "id": "AqVhrSzG_Q4p"
      }
    },
    {
      "cell_type": "code",
      "metadata": {
        "colab": {
          "base_uri": "https://localhost:8080/"
        },
        "id": "vPD2FQFjUQep",
        "outputId": "c9f00256-48bc-4089-a83d-ef2b93bf1eed"
      },
      "source": [
        "# Fitting the Linear SVC model into the train dataset\n",
        "lsvc = LinearSVC()\n",
        "lsvc.fit(X_train, y_train)\n"
      ],
      "execution_count": 38,
      "outputs": [
        {
          "output_type": "execute_result",
          "data": {
            "text/plain": [
              "LinearSVC()"
            ]
          },
          "metadata": {},
          "execution_count": 38
        }
      ]
    },
    {
      "cell_type": "markdown",
      "metadata": {
        "id": "E9hkjwKf1e7Y"
      },
      "source": [
        "- __Logistic regression__ is a statistical model that in its basic form uses a logistic function to model a binary (two) dependent variable, for example pass/fail, win/lose, healthy/sick and many more. Its models are effective only for cases in which we have clearly linearly separable data, i.e, a straight line can be drawn between the different datapoints that definitively separates them."
      ]
    },
    {
      "cell_type": "code",
      "metadata": {
        "id": "cvf-us-SX9xY",
        "colab": {
          "base_uri": "https://localhost:8080/"
        },
        "outputId": "8963c263-9d9a-43f7-df0d-f34afcf03345"
      },
      "source": [
        "# Fitting the Logistic Regression Classifier model into the train dataset\n",
        "lm_full = LogisticRegression()\n",
        "lm_full.fit(X_train, y_train)\n"
      ],
      "execution_count": 39,
      "outputs": [
        {
          "output_type": "execute_result",
          "data": {
            "text/plain": [
              "LogisticRegression()"
            ]
          },
          "metadata": {},
          "execution_count": 39
        }
      ]
    },
    {
      "cell_type": "markdown",
      "source": [
        "- "
      ],
      "metadata": {
        "id": "KjlD3i80KB9N"
      }
    },
    {
      "cell_type": "code",
      "metadata": {
        "id": "FpXmtnKCWWtW",
        "colab": {
          "base_uri": "https://localhost:8080/"
        },
        "outputId": "073c6d31-5bfe-4f4c-9de9-dc665da1ff3f"
      },
      "source": [
        "#Fitting the Decision Tree model into the train dataset\n",
        "tree = DecisionTreeClassifier(random_state=42)\n",
        "tree.fit(X_train, y_train)"
      ],
      "execution_count": 40,
      "outputs": [
        {
          "output_type": "execute_result",
          "data": {
            "text/plain": [
              "DecisionTreeClassifier(random_state=42)"
            ]
          },
          "metadata": {},
          "execution_count": 40
        }
      ]
    },
    {
      "cell_type": "code",
      "metadata": {
        "id": "AQEgjd31WWgU",
        "colab": {
          "base_uri": "https://localhost:8080/"
        },
        "outputId": "56867ac4-f18d-4ab1-b456-75f88b33557a"
      },
      "source": [
        "# Fitting the K-Nearest Neighbors model into the train dataset \n",
        "knn = KNeighborsClassifier()\n",
        "knn.fit(X_train, y_train)\n"
      ],
      "execution_count": 41,
      "outputs": [
        {
          "output_type": "execute_result",
          "data": {
            "text/plain": [
              "KNeighborsClassifier()"
            ]
          },
          "metadata": {},
          "execution_count": 41
        }
      ]
    },
    {
      "cell_type": "markdown",
      "metadata": {
        "id": "h5LqbcMixKTu"
      },
      "source": [
        "<a id=\"seven\"></a>\n",
        "## Model Performance"
      ]
    },
    {
      "cell_type": "code",
      "metadata": {
        "id": "AY6f1nyxpAS9",
        "colab": {
          "base_uri": "https://localhost:8080/"
        },
        "outputId": "7e76d48f-6b69-4366-a6e6-5b6f979cda6f"
      },
      "source": [
        "# Use trained different models to run prediction on validation data\n",
        "lsvc_pred= lsvc.predict(X_test)\n",
        "lm_full_pred= lm_full.predict(X_test)\n",
        "tree_pred= tree.predict(X_test)\n",
        "knn_pred= knn.predict(X_test)\n",
        "\n",
        "# Score\n",
        "print(\"Linear SVC Metrics:\")\n",
        "print(metrics.classification_report(y_test, lsvc_pred))\n",
        "\n",
        "print(\"Logistic Regression Classifier Metrics:\")\n",
        "print(metrics.classification_report(y_test, lm_full_pred))\n",
        "\n",
        "print(\"Decision Tree Metrics:\")\n",
        "print(metrics.classification_report(y_test, tree_pred))\n",
        "\n",
        "print(\"K-nearest neighbors Metrics:\")\n",
        "print(metrics.classification_report(y_test, knn_pred))"
      ],
      "execution_count": 42,
      "outputs": [
        {
          "output_type": "stream",
          "name": "stdout",
          "text": [
            "Linear SVC Metrics\n",
            "              precision    recall  f1-score   support\n",
            "\n",
            "          -1       0.76      0.51      0.61       259\n",
            "           0       0.56      0.41      0.47       471\n",
            "           1       0.76      0.86      0.81      1706\n",
            "           2       0.75      0.75      0.75       728\n",
            "\n",
            "    accuracy                           0.74      3164\n",
            "   macro avg       0.71      0.63      0.66      3164\n",
            "weighted avg       0.73      0.74      0.73      3164\n",
            "\n",
            "Logistic Regression Classifier Metrics\n",
            "              precision    recall  f1-score   support\n",
            "\n",
            "          -1       0.86      0.34      0.49       259\n",
            "           0       0.66      0.33      0.44       471\n",
            "           1       0.72      0.92      0.81      1706\n",
            "           2       0.79      0.68      0.73       728\n",
            "\n",
            "    accuracy                           0.73      3164\n",
            "   macro avg       0.76      0.57      0.62      3164\n",
            "weighted avg       0.74      0.73      0.71      3164\n",
            "\n",
            "Decision Tree Metrics\n",
            "              precision    recall  f1-score   support\n",
            "\n",
            "          -1       0.45      0.34      0.39       259\n",
            "           0       0.46      0.42      0.44       471\n",
            "           1       0.71      0.77      0.74      1706\n",
            "           2       0.68      0.64      0.66       728\n",
            "\n",
            "    accuracy                           0.65      3164\n",
            "   macro avg       0.57      0.54      0.56      3164\n",
            "weighted avg       0.64      0.65      0.65      3164\n",
            "\n",
            "K-nearest neighbors Metrics\n",
            "              precision    recall  f1-score   support\n",
            "\n",
            "          -1       0.48      0.44      0.46       259\n",
            "           0       0.39      0.47      0.43       471\n",
            "           1       0.70      0.75      0.73      1706\n",
            "           2       0.71      0.51      0.59       728\n",
            "\n",
            "    accuracy                           0.63      3164\n",
            "   macro avg       0.57      0.54      0.55      3164\n",
            "weighted avg       0.64      0.63      0.63      3164\n",
            "\n"
          ]
        }
      ]
    },
    {
      "cell_type": "code",
      "metadata": {
        "id": "wz4yBE8MHHBV",
        "colab": {
          "base_uri": "https://localhost:8080/"
        },
        "outputId": "d8692c93-bed4-4562-d902-0e074c544733"
      },
      "source": [
        "# Assessing the performance of different models using the confusion matrix \n",
        "\n",
        "print(\"Linear SVC Model:\")\n",
        "print(confusion_matrix(y_test, lsvc_pred))\n",
        "\n",
        "print(\"Logistic Regression Model:\")\n",
        "print(confusion_matrix(y_test, lm_full_pred))\n",
        "\n",
        "print(\"Decision Tree Model:\")\n",
        "print(confusion_matrix(y_test, tree_pred))\n",
        "\n",
        "print(\"K-nearest neighbors Model:\")\n",
        "print(confusion_matrix(y_test, knn_pred))"
      ],
      "execution_count": 43,
      "outputs": [
        {
          "output_type": "stream",
          "name": "stdout",
          "text": [
            "Linear SVC Model\n",
            "[[ 132   36   80   11]\n",
            " [  21  192  218   40]\n",
            " [  15   95 1466  130]\n",
            " [   5   21  157  545]]\n",
            "Logistic Regression Model\n",
            "[[  88   37  123   11]\n",
            " [   4  154  279   34]\n",
            " [   6   34 1576   90]\n",
            " [   4    7  220  497]]\n",
            "Decision Tree Model\n",
            "[[  88   47  111   13]\n",
            " [  26  199  217   29]\n",
            " [  58  162 1307  179]\n",
            " [  22   27  210  469]]\n",
            "K-nearest neighbors Model\n",
            "[[ 114   58   79    8]\n",
            " [  38  223  188   22]\n",
            " [  69  227 1287  123]\n",
            " [  15   68  277  368]]\n"
          ]
        }
      ]
    },
    {
      "cell_type": "code",
      "metadata": {
        "id": "pxWsSUMVUQep"
      },
      "source": [
        "lsvc_pred_real= lsvc.predict(X_vec_t_real)"
      ],
      "execution_count": 44,
      "outputs": []
    },
    {
      "cell_type": "code",
      "metadata": {
        "id": "-rKgT7APUQep"
      },
      "source": [
        "df_test['sentiment'] = lsvc_pred_real"
      ],
      "execution_count": 45,
      "outputs": []
    },
    {
      "cell_type": "code",
      "metadata": {
        "id": "j9PY1M5FUQeq",
        "colab": {
          "base_uri": "https://localhost:8080/",
          "height": 833
        },
        "outputId": "5992e844-dc70-47a6-96be-477f6896a4e8"
      },
      "source": [
        "df_test.head(25)"
      ],
      "execution_count": 46,
      "outputs": [
        {
          "output_type": "execute_result",
          "data": {
            "text/html": [
              "<div>\n",
              "<style scoped>\n",
              "    .dataframe tbody tr th:only-of-type {\n",
              "        vertical-align: middle;\n",
              "    }\n",
              "\n",
              "    .dataframe tbody tr th {\n",
              "        vertical-align: top;\n",
              "    }\n",
              "\n",
              "    .dataframe thead th {\n",
              "        text-align: right;\n",
              "    }\n",
              "</style>\n",
              "<table border=\"1\" class=\"dataframe\">\n",
              "  <thead>\n",
              "    <tr style=\"text-align: right;\">\n",
              "      <th></th>\n",
              "      <th>message</th>\n",
              "      <th>tweetid</th>\n",
              "      <th>newmessage</th>\n",
              "      <th>sentiment</th>\n",
              "    </tr>\n",
              "  </thead>\n",
              "  <tbody>\n",
              "    <tr>\n",
              "      <th>0</th>\n",
              "      <td>Europe will now be looking to China to make su...</td>\n",
              "      <td>169760</td>\n",
              "      <td>europe will looking china make sure that alone...</td>\n",
              "      <td>1</td>\n",
              "    </tr>\n",
              "    <tr>\n",
              "      <th>1</th>\n",
              "      <td>Combine this with the polling of staffers re c...</td>\n",
              "      <td>35326</td>\n",
              "      <td>combine this with polling staffers climate cha...</td>\n",
              "      <td>1</td>\n",
              "    </tr>\n",
              "    <tr>\n",
              "      <th>2</th>\n",
              "      <td>The scary unimpeachable evidence that climate ...</td>\n",
              "      <td>224985</td>\n",
              "      <td>scary unimpeachable evidence that climate chan...</td>\n",
              "      <td>1</td>\n",
              "    </tr>\n",
              "    <tr>\n",
              "      <th>3</th>\n",
              "      <td>Karoli morgfair OsborneInk dailykos \\nPutin go...</td>\n",
              "      <td>476263</td>\n",
              "      <td>karoli morgfair osborneink dailykos putin jill...</td>\n",
              "      <td>1</td>\n",
              "    </tr>\n",
              "    <tr>\n",
              "      <th>4</th>\n",
              "      <td>RT FakeWillMoore Female orgasms cause global w...</td>\n",
              "      <td>872928</td>\n",
              "      <td>fakewillmoore female orgasms cause global warm...</td>\n",
              "      <td>0</td>\n",
              "    </tr>\n",
              "    <tr>\n",
              "      <th>5</th>\n",
              "      <td>RT nycjim Trump muzzles employees of several g...</td>\n",
              "      <td>75639</td>\n",
              "      <td>nycjim trump muzzles employees several gov’t a...</td>\n",
              "      <td>1</td>\n",
              "    </tr>\n",
              "    <tr>\n",
              "      <th>6</th>\n",
              "      <td>bmastenbrook yes wrote that in 3rd yr Comp Sci...</td>\n",
              "      <td>211536</td>\n",
              "      <td>bmastenbrook wrote that comp ethics part told ...</td>\n",
              "      <td>1</td>\n",
              "    </tr>\n",
              "    <tr>\n",
              "      <th>7</th>\n",
              "      <td>RT climatehawk1 Indonesian farmers weather cli...</td>\n",
              "      <td>569434</td>\n",
              "      <td>climatehawk1 indonesian farmers weather climat...</td>\n",
              "      <td>1</td>\n",
              "    </tr>\n",
              "    <tr>\n",
              "      <th>8</th>\n",
              "      <td>RT guardian British scientists face a ‘huge hi...</td>\n",
              "      <td>315368</td>\n",
              "      <td>guardian british scientists face ‘huge hit’ cu...</td>\n",
              "      <td>2</td>\n",
              "    </tr>\n",
              "    <tr>\n",
              "      <th>9</th>\n",
              "      <td>Aid For Agriculture  Sustainable agriculture a...</td>\n",
              "      <td>591733</td>\n",
              "      <td>agriculture sustainable agriculture climate ch...</td>\n",
              "      <td>1</td>\n",
              "    </tr>\n",
              "    <tr>\n",
              "      <th>10</th>\n",
              "      <td>There is no climate change Globalists urlweb</td>\n",
              "      <td>91983</td>\n",
              "      <td>there climate change globalists urlweb</td>\n",
              "      <td>-1</td>\n",
              "    </tr>\n",
              "    <tr>\n",
              "      <th>11</th>\n",
              "      <td>Biggest threat to our economy is climate chang...</td>\n",
              "      <td>67249</td>\n",
              "      <td>biggest threat economy climate change urlweb</td>\n",
              "      <td>1</td>\n",
              "    </tr>\n",
              "    <tr>\n",
              "      <th>12</th>\n",
              "      <td>RT 100isNow Hes CEO of a company that lied abo...</td>\n",
              "      <td>143459</td>\n",
              "      <td>100isnow company that lied about climate chang...</td>\n",
              "      <td>2</td>\n",
              "    </tr>\n",
              "    <tr>\n",
              "      <th>13</th>\n",
              "      <td>RT VICE Venice could be swallowed by water wit...</td>\n",
              "      <td>663535</td>\n",
              "      <td>vice venice could swallowed water within centu...</td>\n",
              "      <td>2</td>\n",
              "    </tr>\n",
              "    <tr>\n",
              "      <th>14</th>\n",
              "      <td>RT TotalCardsMove Its so warm outside because ...</td>\n",
              "      <td>20476</td>\n",
              "      <td>totalcardsmove warm outside because climate ch...</td>\n",
              "      <td>0</td>\n",
              "    </tr>\n",
              "    <tr>\n",
              "      <th>15</th>\n",
              "      <td>Niggas ask me what my inspiration was I told e...</td>\n",
              "      <td>815297</td>\n",
              "      <td>niggas what inspiration told global warming fe...</td>\n",
              "      <td>0</td>\n",
              "    </tr>\n",
              "    <tr>\n",
              "      <th>16</th>\n",
              "      <td>RT SenSanders We have a presidentelect who doe...</td>\n",
              "      <td>274098</td>\n",
              "      <td>sensanders have presidentelect doesnt believe ...</td>\n",
              "      <td>1</td>\n",
              "    </tr>\n",
              "    <tr>\n",
              "      <th>17</th>\n",
              "      <td>RT sccscot We welcome recommendations publishe...</td>\n",
              "      <td>30045</td>\n",
              "      <td>sccscot welcome recommendations published msps...</td>\n",
              "      <td>2</td>\n",
              "    </tr>\n",
              "    <tr>\n",
              "      <th>18</th>\n",
              "      <td>RT yajairaxlove MidNovember amp its hot as hel...</td>\n",
              "      <td>681487</td>\n",
              "      <td>yajairaxlove midnovember hell global warming hoax</td>\n",
              "      <td>-1</td>\n",
              "    </tr>\n",
              "    <tr>\n",
              "      <th>19</th>\n",
              "      <td>Recordbreaking climate change pushes world int...</td>\n",
              "      <td>708966</td>\n",
              "      <td>recordbreaking climate change pushes world int...</td>\n",
              "      <td>2</td>\n",
              "    </tr>\n",
              "    <tr>\n",
              "      <th>20</th>\n",
              "      <td>RT AdamsFlaFan BigOilOwned House science chair...</td>\n",
              "      <td>393689</td>\n",
              "      <td>adamsflafan bigoilowned house science chairman...</td>\n",
              "      <td>2</td>\n",
              "    </tr>\n",
              "    <tr>\n",
              "      <th>21</th>\n",
              "      <td>RT thehill Bill Nye slams CNN for having clima...</td>\n",
              "      <td>186705</td>\n",
              "      <td>thehill bill slams having climate change skept...</td>\n",
              "      <td>2</td>\n",
              "    </tr>\n",
              "    <tr>\n",
              "      <th>22</th>\n",
              "      <td>Michael Moore calls Trump’s actions on climate...</td>\n",
              "      <td>233977</td>\n",
              "      <td>michael moore calls trump’s actions climate ch...</td>\n",
              "      <td>2</td>\n",
              "    </tr>\n",
              "    <tr>\n",
              "      <th>23</th>\n",
              "      <td>RT SenSanders We have a presidentelect who doe...</td>\n",
              "      <td>525794</td>\n",
              "      <td>sensanders have presidentelect doesnt believe ...</td>\n",
              "      <td>1</td>\n",
              "    </tr>\n",
              "    <tr>\n",
              "      <th>24</th>\n",
              "      <td>LeoDiCaprio s BeforeTheFlood is such a masterp...</td>\n",
              "      <td>863649</td>\n",
              "      <td>leodicaprio beforetheflood such masterpiece ne...</td>\n",
              "      <td>1</td>\n",
              "    </tr>\n",
              "  </tbody>\n",
              "</table>\n",
              "</div>"
            ],
            "text/plain": [
              "                                              message  tweetid  \\\n",
              "0   Europe will now be looking to China to make su...   169760   \n",
              "1   Combine this with the polling of staffers re c...    35326   \n",
              "2   The scary unimpeachable evidence that climate ...   224985   \n",
              "3   Karoli morgfair OsborneInk dailykos \\nPutin go...   476263   \n",
              "4   RT FakeWillMoore Female orgasms cause global w...   872928   \n",
              "5   RT nycjim Trump muzzles employees of several g...    75639   \n",
              "6   bmastenbrook yes wrote that in 3rd yr Comp Sci...   211536   \n",
              "7   RT climatehawk1 Indonesian farmers weather cli...   569434   \n",
              "8   RT guardian British scientists face a ‘huge hi...   315368   \n",
              "9   Aid For Agriculture  Sustainable agriculture a...   591733   \n",
              "10       There is no climate change Globalists urlweb    91983   \n",
              "11  Biggest threat to our economy is climate chang...    67249   \n",
              "12  RT 100isNow Hes CEO of a company that lied abo...   143459   \n",
              "13  RT VICE Venice could be swallowed by water wit...   663535   \n",
              "14  RT TotalCardsMove Its so warm outside because ...    20476   \n",
              "15  Niggas ask me what my inspiration was I told e...   815297   \n",
              "16  RT SenSanders We have a presidentelect who doe...   274098   \n",
              "17  RT sccscot We welcome recommendations publishe...    30045   \n",
              "18  RT yajairaxlove MidNovember amp its hot as hel...   681487   \n",
              "19  Recordbreaking climate change pushes world int...   708966   \n",
              "20  RT AdamsFlaFan BigOilOwned House science chair...   393689   \n",
              "21  RT thehill Bill Nye slams CNN for having clima...   186705   \n",
              "22  Michael Moore calls Trump’s actions on climate...   233977   \n",
              "23  RT SenSanders We have a presidentelect who doe...   525794   \n",
              "24  LeoDiCaprio s BeforeTheFlood is such a masterp...   863649   \n",
              "\n",
              "                                           newmessage  sentiment  \n",
              "0   europe will looking china make sure that alone...          1  \n",
              "1   combine this with polling staffers climate cha...          1  \n",
              "2   scary unimpeachable evidence that climate chan...          1  \n",
              "3   karoli morgfair osborneink dailykos putin jill...          1  \n",
              "4   fakewillmoore female orgasms cause global warm...          0  \n",
              "5   nycjim trump muzzles employees several gov’t a...          1  \n",
              "6   bmastenbrook wrote that comp ethics part told ...          1  \n",
              "7   climatehawk1 indonesian farmers weather climat...          1  \n",
              "8   guardian british scientists face ‘huge hit’ cu...          2  \n",
              "9   agriculture sustainable agriculture climate ch...          1  \n",
              "10             there climate change globalists urlweb         -1  \n",
              "11       biggest threat economy climate change urlweb          1  \n",
              "12  100isnow company that lied about climate chang...          2  \n",
              "13  vice venice could swallowed water within centu...          2  \n",
              "14  totalcardsmove warm outside because climate ch...          0  \n",
              "15  niggas what inspiration told global warming fe...          0  \n",
              "16  sensanders have presidentelect doesnt believe ...          1  \n",
              "17  sccscot welcome recommendations published msps...          2  \n",
              "18  yajairaxlove midnovember hell global warming hoax         -1  \n",
              "19  recordbreaking climate change pushes world int...          2  \n",
              "20  adamsflafan bigoilowned house science chairman...          2  \n",
              "21  thehill bill slams having climate change skept...          2  \n",
              "22  michael moore calls trump’s actions climate ch...          2  \n",
              "23  sensanders have presidentelect doesnt believe ...          1  \n",
              "24  leodicaprio beforetheflood such masterpiece ne...          1  "
            ]
          },
          "metadata": {},
          "execution_count": 46
        }
      ]
    },
    {
      "cell_type": "code",
      "metadata": {
        "id": "Kl1eVBmMUQeq"
      },
      "source": [
        "df_test[['tweetid','sentiment']].to_csv('submission.csv', index=False)"
      ],
      "execution_count": 47,
      "outputs": []
    },
    {
      "cell_type": "code",
      "metadata": {
        "id": "hWjjo6gxUQeq"
      },
      "source": [
        ""
      ],
      "execution_count": 47,
      "outputs": []
    }
  ]
}