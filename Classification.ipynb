{
 "cells": [
  {
   "cell_type": "code",
   "execution_count": 549,
   "id": "3dc06adf",
   "metadata": {},
   "outputs": [],
   "source": [
    "import numpy as np\n",
    "import pandas as pd\n",
    "import seaborn as sns\n",
    "import matplotlib.pyplot as plt\n",
    "%matplotlib inline\n",
    "from matplotlib.colors import ListedColormap\n",
    "import warnings\n",
    "warnings.filterwarnings(\"ignore\")\n",
    "\n",
    "import re\n",
    "from pylab import rcParams\n",
    "import matplotlib.pyplot as plt\n",
    "%matplotlib inline\n",
    "import seaborn as sns\n",
    "\n",
    "import sklearn\n",
    "from sklearn.svm import SVC\n",
    "from sklearn.preprocessing import StandardScaler\n",
    "from sklearn.datasets import load_iris\n",
    "from sklearn.model_selection import train_test_split\n",
    "\n",
    "from sklearn.feature_extraction.text import CountVectorizer\n",
    "from sklearn.feature_extraction.text import TfidfVectorizer\n",
    "\n",
    "from sklearn.tree import DecisionTreeClassifier\n",
    "\n",
    "from sklearn.metrics import confusion_matrix\n",
    "from sklearn.metrics import classification_report\n",
    "\n",
    "import nltk"
   ]
  },
  {
   "cell_type": "code",
   "execution_count": 550,
   "id": "cfdd8c35",
   "metadata": {},
   "outputs": [
    {
     "data": {
      "text/html": [
       "<div>\n",
       "<style scoped>\n",
       "    .dataframe tbody tr th:only-of-type {\n",
       "        vertical-align: middle;\n",
       "    }\n",
       "\n",
       "    .dataframe tbody tr th {\n",
       "        vertical-align: top;\n",
       "    }\n",
       "\n",
       "    .dataframe thead th {\n",
       "        text-align: right;\n",
       "    }\n",
       "</style>\n",
       "<table border=\"1\" class=\"dataframe\">\n",
       "  <thead>\n",
       "    <tr style=\"text-align: right;\">\n",
       "      <th></th>\n",
       "      <th>sentiment</th>\n",
       "      <th>message</th>\n",
       "      <th>tweetid</th>\n",
       "    </tr>\n",
       "  </thead>\n",
       "  <tbody>\n",
       "    <tr>\n",
       "      <th>0</th>\n",
       "      <td>1</td>\n",
       "      <td>PolySciMajor EPA chief doesn't think carbon di...</td>\n",
       "      <td>625221</td>\n",
       "    </tr>\n",
       "    <tr>\n",
       "      <th>1</th>\n",
       "      <td>1</td>\n",
       "      <td>It's not like we lack evidence of anthropogeni...</td>\n",
       "      <td>126103</td>\n",
       "    </tr>\n",
       "    <tr>\n",
       "      <th>2</th>\n",
       "      <td>2</td>\n",
       "      <td>RT @RawStory: Researchers say we have three ye...</td>\n",
       "      <td>698562</td>\n",
       "    </tr>\n",
       "    <tr>\n",
       "      <th>3</th>\n",
       "      <td>1</td>\n",
       "      <td>#TodayinMaker# WIRED : 2016 was a pivotal year...</td>\n",
       "      <td>573736</td>\n",
       "    </tr>\n",
       "    <tr>\n",
       "      <th>4</th>\n",
       "      <td>1</td>\n",
       "      <td>RT @SoyNovioDeTodas: It's 2016, and a racist, ...</td>\n",
       "      <td>466954</td>\n",
       "    </tr>\n",
       "  </tbody>\n",
       "</table>\n",
       "</div>"
      ],
      "text/plain": [
       "   sentiment                                            message  tweetid\n",
       "0          1  PolySciMajor EPA chief doesn't think carbon di...   625221\n",
       "1          1  It's not like we lack evidence of anthropogeni...   126103\n",
       "2          2  RT @RawStory: Researchers say we have three ye...   698562\n",
       "3          1  #TodayinMaker# WIRED : 2016 was a pivotal year...   573736\n",
       "4          1  RT @SoyNovioDeTodas: It's 2016, and a racist, ...   466954"
      ]
     },
     "execution_count": 550,
     "metadata": {},
     "output_type": "execute_result"
    }
   ],
   "source": [
    "# Import Train\n",
    "df_train = pd.read_csv('train.csv')\n",
    "df_train.head()"
   ]
  },
  {
   "cell_type": "code",
   "execution_count": 551,
   "id": "4e5270a3",
   "metadata": {},
   "outputs": [],
   "source": [
    "train_ndf = df_train\n",
    "test_ndf = df_test"
   ]
  },
  {
   "cell_type": "code",
   "execution_count": 552,
   "id": "c1517f18",
   "metadata": {},
   "outputs": [
    {
     "data": {
      "text/plain": [
       "<AxesSubplot:xlabel='sentiment', ylabel='count'>"
      ]
     },
     "execution_count": 552,
     "metadata": {},
     "output_type": "execute_result"
    },
    {
     "data": {
      "image/png": "[encoded data removed]",
      "text/plain": [
       "<Figure size 432x288 with 1 Axes>"
      ]
     },
     "metadata": {
      "needs_background": "light"
     },
     "output_type": "display_data"
    }
   ],
   "source": [
    "sns.countplot(train_ndf['sentiment'])"
   ]
  },
  {
   "cell_type": "code",
   "execution_count": 553,
   "id": "e9e81424",
   "metadata": {},
   "outputs": [],
   "source": [
    "# Import Test\n",
    "df_test = pd.read_csv('test_with_no_labels.csv')"
   ]
  },
  {
   "cell_type": "code",
   "execution_count": 554,
   "id": "27939ac0",
   "metadata": {},
   "outputs": [
    {
     "data": {
      "text/plain": [
       " 1    8530\n",
       " 2    3640\n",
       " 0    2353\n",
       "-1    1296\n",
       "Name: sentiment, dtype: int64"
      ]
     },
     "execution_count": 554,
     "metadata": {},
     "output_type": "execute_result"
    }
   ],
   "source": [
    "#check value difference\n",
    "train_ndf['sentiment'].value_counts()"
   ]
  },
  {
   "cell_type": "code",
   "execution_count": 555,
   "id": "cfe258ad",
   "metadata": {},
   "outputs": [],
   "source": [
    "EMOJIS = {':)': 'smile', ':-)': 'smile', ';d': 'wink', ':-E': 'vampire', ':(': 'sad', \n",
    "          ':-(': 'sad', ':-<': 'sad', ':P': 'raspberry', ':O': 'surprised',\n",
    "          ':-@': 'shocked', ':@': 'shocked',':-$': 'confused', ':\\\\': 'annoyed', \n",
    "          ':#': 'mute', ':X': 'mute', ':^)': 'smile', ':-&': 'confused', '$_$': 'greedy',\n",
    "          '@@': 'eyeroll', ':-!': 'confused', ':-D': 'smile', ':-0': 'yell', 'O.o': 'confused',\n",
    "          '<(-_-)>': 'robot', 'd[-_-]b': 'dj', \":'-)\": 'sadsmile', ';)': 'wink', \n",
    "          ';-)': 'wink', 'O:-)': 'angel','O*-)': 'angel','(:-D': 'gossip', '=^.^=': 'cat'}\n",
    "URLPATTERN        = r\"((http://)[^ ]*|(https://)[^ ]*|( www\\.)[^ ]*)\"\n",
    "USERPATTERN       = '@[^\\s]+'\n",
    "SEQPATTERN   = r\"(.)\\1\\1+\"\n",
    "SEQREPLACE = r\"\\1\\1\""
   ]
  },
  {
   "cell_type": "code",
   "execution_count": 556,
   "id": "03ea827e",
   "metadata": {},
   "outputs": [],
   "source": [
    "def prepro_message(mesg):\n",
    "    mesg = re.sub(r\"http\\S+\", \"\", mesg)\n",
    "    ### Replacing URL\n",
    "    mesg = re.sub(URLPATTERN,' URL',mesg)\n",
    "    ### Removing non-alphabets\n",
    "    mesg = re.sub('[^a-zA-z]',\" \",mesg)\n",
    "    ### Replacing EMOJI\n",
    "    for emoji in EMOJIS.keys():\n",
    "        mesg = mesg.replace(emoji, \"EMOJI\" + EMOJIS[emoji])  \n",
    "    return mesg"
   ]
  },
  {
   "cell_type": "code",
   "execution_count": 557,
   "id": "48da317f",
   "metadata": {},
   "outputs": [
    {
     "data": {
      "text/plain": [
       "'PolySciMajor EPA chief doesn t think carbon dioxide is main cause of global warming and   wait  what    via  mashable'"
      ]
     },
     "execution_count": 557,
     "metadata": {},
     "output_type": "execute_result"
    }
   ],
   "source": [
    "train_ndf['message'] = train_ndf['message'].apply(prepro_message)\n",
    "\n",
    "df_train['message'].iloc[0]"
   ]
  },
  {
   "cell_type": "code",
   "execution_count": 558,
   "id": "2a8bc60a",
   "metadata": {
    "scrolled": true
   },
   "outputs": [
    {
     "data": {
      "text/plain": [
       "'PolySciMajor EPA chief doesn t think carbon dioxide is main cause of global warming and   wait  what    via  mashable'"
      ]
     },
     "execution_count": 558,
     "metadata": {},
     "output_type": "execute_result"
    }
   ],
   "source": [
    "train_ndf['message'].iloc[0]"
   ]
  },
  {
   "cell_type": "code",
   "execution_count": 559,
   "id": "9e364e30",
   "metadata": {},
   "outputs": [
    {
     "data": {
      "text/plain": [
       "'Europe will now be looking to China to make sure that it is not alone in fighting climate change… https://t.co/O7T8rCgwDq'"
      ]
     },
     "execution_count": 559,
     "metadata": {},
     "output_type": "execute_result"
    }
   ],
   "source": [
    "test_ndf ['message'] = test_ndf['message'].apply(prepro_message)\n",
    "df_test['message'].iloc[0]"
   ]
  },
  {
   "cell_type": "code",
   "execution_count": 560,
   "id": "f4be5a36",
   "metadata": {},
   "outputs": [
    {
     "data": {
      "text/plain": [
       "'Europe will now be looking to China to make sure that it is not alone in fighting climate change  '"
      ]
     },
     "execution_count": 560,
     "metadata": {},
     "output_type": "execute_result"
    }
   ],
   "source": [
    "test_ndf['message'].iloc[0]"
   ]
  },
  {
   "cell_type": "code",
   "execution_count": 561,
   "id": "a52e9e9b",
   "metadata": {},
   "outputs": [],
   "source": [
    "TFID = TfidfVectorizer(stop_words='english', \n",
    "                             min_df=2, \n",
    "                             max_df=0.90, \n",
    "                             ngram_range=(1, 3))"
   ]
  },
  {
   "cell_type": "code",
   "execution_count": 562,
   "id": "f22882e1",
   "metadata": {},
   "outputs": [],
   "source": [
    "X = train_ndf['message']\n",
    "y = train_ndf['sentiment']"
   ]
  },
  {
   "cell_type": "code",
   "execution_count": 563,
   "id": "c30ed32b",
   "metadata": {},
   "outputs": [],
   "source": [
    "###test\n",
    "X_t = test_ndf['message']"
   ]
  },
  {
   "cell_type": "code",
   "execution_count": 564,
   "id": "389188b3",
   "metadata": {},
   "outputs": [],
   "source": [
    "X_tr= TFID.fit_transform(X)"
   ]
  },
  {
   "cell_type": "code",
   "execution_count": 565,
   "id": "cb0b94a9",
   "metadata": {},
   "outputs": [],
   "source": [
    "X_fintest = TFID.transform(X_t)"
   ]
  },
  {
   "cell_type": "code",
   "execution_count": 597,
   "id": "e1edcb22",
   "metadata": {},
   "outputs": [],
   "source": [
    "# get training and testing data \n",
    "X_train, X_test, y_train, y_test = train_test_split(X_tr, y, test_size=0.10, random_state=10)"
   ]
  },
  {
   "cell_type": "code",
   "execution_count": 598,
   "id": "1b3e6d35",
   "metadata": {
    "scrolled": false
   },
   "outputs": [
    {
     "name": "stdout",
     "output_type": "stream",
     "text": [
      "The accuracy score of the SVC is: 0.7281921618204804\n",
      "\n",
      "\n",
      "Classification Report:\n",
      "\n",
      "               precision    recall  f1-score   support\n",
      "\n",
      "          -1       0.88      0.28      0.43       132\n",
      "           0       0.81      0.28      0.42       230\n",
      "           1       0.69      0.95      0.80       840\n",
      "           2       0.84      0.66      0.74       380\n",
      "\n",
      "    accuracy                           0.73      1582\n",
      "   macro avg       0.81      0.54      0.60      1582\n",
      "weighted avg       0.76      0.73      0.70      1582\n",
      "\n"
     ]
    }
   ],
   "source": [
    "#Non-Linear model\n",
    "svc = SVC(kernel='rbf')\n",
    "svc.fit(X_train, y_train)\n",
    "y_pred = svc.predict(X_test)\n",
    "\n",
    "print(\"The accuracy score of the SVC is:\", accuracy_score(y_test, y_pred))\n",
    "print(\"\\n\\nClassification Report:\\n\\n\",classification_report(y_test, y_pred))"
   ]
  },
  {
   "cell_type": "code",
   "execution_count": 599,
   "id": "0ccb9d4a",
   "metadata": {},
   "outputs": [],
   "source": [
    "final_y_pred= svc.predict(X_fintest)"
   ]
  },
  {
   "cell_type": "code",
   "execution_count": 596,
   "id": "82ff8801",
   "metadata": {},
   "outputs": [],
   "source": [
    "test_ndf['sentiment'] = final_y_pred"
   ]
  },
  {
   "cell_type": "code",
   "execution_count": 600,
   "id": "2214aa23",
   "metadata": {},
   "outputs": [],
   "source": [
    "test_ndf[['tweetid','sentiment']].to_csv('non_LinearSVC3.csv', index=False)"
   ]
  },
  {
   "cell_type": "code",
   "execution_count": 601,
   "id": "a2e8c28b",
   "metadata": {},
   "outputs": [],
   "source": [
    "parameters = {'kernel':('linear', 'rbf'),\n",
    "              'C':(0.25,1.0),\n",
    "              'gamma': (1,2)}"
   ]
  },
  {
   "cell_type": "code",
   "execution_count": null,
   "id": "b6c0a53b",
   "metadata": {},
   "outputs": [],
   "source": [
    "svm = SVC()\n",
    "clf = GridSearchCV(svm, parameters)\n",
    "clf.fit(X_train,y_train)"
   ]
  },
  {
   "cell_type": "code",
   "execution_count": null,
   "id": "a7e86d48",
   "metadata": {},
   "outputs": [],
   "source": [
    "y_opt = clf.predict(X_test)\n",
    "print(\"The accuracy for our tuned model is: \", accuracy_score(y_test, y_opt))"
   ]
  }
 ],
 "metadata": {
  "kernelspec": {
   "display_name": "Python 3",
   "language": "python",
   "name": "python3"
  },
  "language_info": {
   "codemirror_mode": {
    "name": "ipython",
    "version": 3
   },
   "file_extension": ".py",
   "mimetype": "text/x-python",
   "name": "python",
   "nbconvert_exporter": "python",
   "pygments_lexer": "ipython3",
   "version": "3.8.8"
  }
 },
 "nbformat": 4,
 "nbformat_minor": 5
}
